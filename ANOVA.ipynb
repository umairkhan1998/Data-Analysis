{
 "cells": [
  {
   "attachments": {
    "image-3.png": {
     "image/png": "[encoded data removed]"
    }
   },
   "cell_type": "markdown",
   "id": "41398409",
   "metadata": {},
   "source": [
    "# One Way ANOVA\n",
    "Example: Three varieties of wheat are sown in four plots each, and the yields are recorded as shown below. Conduct an ANOVA to analyze the differences between the wheat varieties.\n",
    "\n",
    "Null Hypothesis: The difference between 3 types of wheat is not significant.\n",
    "![image-3.png](attachment:image-3.png)"
   ]
  },
  {
   "cell_type": "markdown",
   "id": "147601f9",
   "metadata": {},
   "source": [
    "# Method \"1\" (One-Way ANOVA)"
   ]
  },
  {
   "cell_type": "code",
   "execution_count": 1,
   "id": "d7fb1bb6",
   "metadata": {},
   "outputs": [],
   "source": [
    "from scipy import stats"
   ]
  },
  {
   "cell_type": "code",
   "execution_count": 2,
   "id": "891ab1f6",
   "metadata": {},
   "outputs": [],
   "source": [
    "# Data\n",
    "wheat_variety_A = [5, 3, 4, 2]\n",
    "wheat_variety_B = [4, 4, 3, 3]\n",
    "wheat_variety_C = [3, 2, 5, 2]"
   ]
  },
  {
   "cell_type": "code",
   "execution_count": 3,
   "id": "266feba6",
   "metadata": {},
   "outputs": [],
   "source": [
    "# Perform one-way ANOVA\n",
    "f_statistic, p_value = stats.f_oneway(wheat_variety_A, wheat_variety_B, wheat_variety_C)"
   ]
  },
  {
   "cell_type": "code",
   "execution_count": 4,
   "id": "24377de2",
   "metadata": {},
   "outputs": [
    {
     "name": "stdout",
     "output_type": "stream",
     "text": [
      "F-statistic: 0.25000000000000006\n",
      "P-value: 0.7840343108765091\n"
     ]
    }
   ],
   "source": [
    "# Print results\n",
    "print(f\"F-statistic: {f_statistic}\")\n",
    "print(f\"P-value: {p_value}\")"
   ]
  },
  {
   "cell_type": "code",
   "execution_count": 5,
   "id": "0183e2e2",
   "metadata": {},
   "outputs": [
    {
     "name": "stdout",
     "output_type": "stream",
     "text": [
      "Fail to reject the null hypothesis. The difference between wheat varieties is not significant.\n"
     ]
    }
   ],
   "source": [
    "# Check if the difference is significant at a 5% significance level\n",
    "alpha = 0.05\n",
    "if p_value < alpha:\n",
    "    print(\"Reject the null hypothesis. The difference between wheat varieties is significant.\")\n",
    "else:\n",
    "    print(\"Fail to reject the null hypothesis. The difference between wheat varieties is not significant.\")"
   ]
  },
  {
   "cell_type": "markdown",
   "id": "b3c8fd3b",
   "metadata": {},
   "source": [
    "# Method \"2\" (One-Way ANOVA)"
   ]
  },
  {
   "cell_type": "code",
   "execution_count": 67,
   "id": "09478475",
   "metadata": {},
   "outputs": [],
   "source": [
    "import pandas as pd\n",
    "import statsmodels.api as sm\n",
    "from statsmodels.formula.api import ols"
   ]
  },
  {
   "cell_type": "code",
   "execution_count": 68,
   "id": "3d2b9a2a",
   "metadata": {},
   "outputs": [],
   "source": [
    "df=pd.read_csv(\"1Way.csv\")"
   ]
  },
  {
   "cell_type": "code",
   "execution_count": 69,
   "id": "6182b2e3",
   "metadata": {},
   "outputs": [
    {
     "data": {
      "text/html": [
       "<div>\n",
       "<style scoped>\n",
       "    .dataframe tbody tr th:only-of-type {\n",
       "        vertical-align: middle;\n",
       "    }\n",
       "\n",
       "    .dataframe tbody tr th {\n",
       "        vertical-align: top;\n",
       "    }\n",
       "\n",
       "    .dataframe thead th {\n",
       "        text-align: right;\n",
       "    }\n",
       "</style>\n",
       "<table border=\"1\" class=\"dataframe\">\n",
       "  <thead>\n",
       "    <tr style=\"text-align: right;\">\n",
       "      <th></th>\n",
       "      <th>Varieties</th>\n",
       "      <th>Plot</th>\n",
       "      <th>yields</th>\n",
       "    </tr>\n",
       "  </thead>\n",
       "  <tbody>\n",
       "    <tr>\n",
       "      <th>0</th>\n",
       "      <td>P1</td>\n",
       "      <td>A</td>\n",
       "      <td>5</td>\n",
       "    </tr>\n",
       "    <tr>\n",
       "      <th>1</th>\n",
       "      <td>P1</td>\n",
       "      <td>B</td>\n",
       "      <td>4</td>\n",
       "    </tr>\n",
       "    <tr>\n",
       "      <th>2</th>\n",
       "      <td>P1</td>\n",
       "      <td>C</td>\n",
       "      <td>3</td>\n",
       "    </tr>\n",
       "    <tr>\n",
       "      <th>3</th>\n",
       "      <td>P2</td>\n",
       "      <td>A</td>\n",
       "      <td>3</td>\n",
       "    </tr>\n",
       "    <tr>\n",
       "      <th>4</th>\n",
       "      <td>P2</td>\n",
       "      <td>B</td>\n",
       "      <td>4</td>\n",
       "    </tr>\n",
       "    <tr>\n",
       "      <th>5</th>\n",
       "      <td>P2</td>\n",
       "      <td>C</td>\n",
       "      <td>2</td>\n",
       "    </tr>\n",
       "    <tr>\n",
       "      <th>6</th>\n",
       "      <td>P3</td>\n",
       "      <td>A</td>\n",
       "      <td>4</td>\n",
       "    </tr>\n",
       "    <tr>\n",
       "      <th>7</th>\n",
       "      <td>P3</td>\n",
       "      <td>B</td>\n",
       "      <td>3</td>\n",
       "    </tr>\n",
       "    <tr>\n",
       "      <th>8</th>\n",
       "      <td>P3</td>\n",
       "      <td>C</td>\n",
       "      <td>5</td>\n",
       "    </tr>\n",
       "    <tr>\n",
       "      <th>9</th>\n",
       "      <td>P4</td>\n",
       "      <td>A</td>\n",
       "      <td>2</td>\n",
       "    </tr>\n",
       "    <tr>\n",
       "      <th>10</th>\n",
       "      <td>P4</td>\n",
       "      <td>B</td>\n",
       "      <td>3</td>\n",
       "    </tr>\n",
       "    <tr>\n",
       "      <th>11</th>\n",
       "      <td>P4</td>\n",
       "      <td>C</td>\n",
       "      <td>2</td>\n",
       "    </tr>\n",
       "  </tbody>\n",
       "</table>\n",
       "</div>"
      ],
      "text/plain": [
       "   Varieties Plot  yields\n",
       "0         P1    A       5\n",
       "1         P1    B       4\n",
       "2         P1    C       3\n",
       "3         P2    A       3\n",
       "4         P2    B       4\n",
       "5         P2    C       2\n",
       "6         P3    A       4\n",
       "7         P3    B       3\n",
       "8         P3    C       5\n",
       "9         P4    A       2\n",
       "10        P4    B       3\n",
       "11        P4    C       2"
      ]
     },
     "execution_count": 69,
     "metadata": {},
     "output_type": "execute_result"
    }
   ],
   "source": [
    "df"
   ]
  },
  {
   "cell_type": "code",
   "execution_count": 75,
   "id": "7869a571",
   "metadata": {},
   "outputs": [],
   "source": [
    "Anova_model=ols(\"yields~Plot\",data=df).fit()\n",
    "\n",
    "One_way_Anova=sm.stats.anova_lm(Anova_model,type=2)   #type=2 refers to the type of sum of squares to be used in the analysis of variance (ANOVA). In the context of ANOVA, the type of sum of squares determines how the variance is partitioned into different components."
   ]
  },
  {
   "cell_type": "code",
   "execution_count": 76,
   "id": "35a10ecb",
   "metadata": {},
   "outputs": [
    {
     "data": {
      "text/html": [
       "<div>\n",
       "<style scoped>\n",
       "    .dataframe tbody tr th:only-of-type {\n",
       "        vertical-align: middle;\n",
       "    }\n",
       "\n",
       "    .dataframe tbody tr th {\n",
       "        vertical-align: top;\n",
       "    }\n",
       "\n",
       "    .dataframe thead th {\n",
       "        text-align: right;\n",
       "    }\n",
       "</style>\n",
       "<table border=\"1\" class=\"dataframe\">\n",
       "  <thead>\n",
       "    <tr style=\"text-align: right;\">\n",
       "      <th></th>\n",
       "      <th>df</th>\n",
       "      <th>sum_sq</th>\n",
       "      <th>mean_sq</th>\n",
       "      <th>F</th>\n",
       "      <th>PR(&gt;F)</th>\n",
       "    </tr>\n",
       "  </thead>\n",
       "  <tbody>\n",
       "    <tr>\n",
       "      <th>Plot</th>\n",
       "      <td>2.0</td>\n",
       "      <td>0.666667</td>\n",
       "      <td>0.333333</td>\n",
       "      <td>0.25</td>\n",
       "      <td>0.784034</td>\n",
       "    </tr>\n",
       "    <tr>\n",
       "      <th>Residual</th>\n",
       "      <td>9.0</td>\n",
       "      <td>12.000000</td>\n",
       "      <td>1.333333</td>\n",
       "      <td>NaN</td>\n",
       "      <td>NaN</td>\n",
       "    </tr>\n",
       "  </tbody>\n",
       "</table>\n",
       "</div>"
      ],
      "text/plain": [
       "           df     sum_sq   mean_sq     F    PR(>F)\n",
       "Plot      2.0   0.666667  0.333333  0.25  0.784034\n",
       "Residual  9.0  12.000000  1.333333   NaN       NaN"
      ]
     },
     "execution_count": 76,
     "metadata": {},
     "output_type": "execute_result"
    }
   ],
   "source": [
    "One_way_Anova"
   ]
  },
  {
   "attachments": {
    "image-2.png": {
     "image/png": "[encoded data removed]"
    }
   },
   "cell_type": "markdown",
   "id": "065de9dd",
   "metadata": {},
   "source": [
    "# Two Way ANOVA\n",
    "Four workers alternatively work on four machines. The number of defective goods which each worker has produced are shown below in the table. Use ANOVA to examine the difference between the machine and difference between the workers.\n",
    "\n",
    "Null Hypotheses: \n",
    "\n",
    "1. The difference between 4 types of machines is not significant\n",
    "\n",
    "2. The difference between 4 types of workers is not significant.\n",
    "\n",
    "![image-2.png](attachment:image-2.png)"
   ]
  },
  {
   "cell_type": "code",
   "execution_count": 66,
   "id": "21dd643a",
   "metadata": {},
   "outputs": [],
   "source": [
    "import pandas as pd\n",
    "import statsmodels.api as sm\n",
    "from statsmodels.formula.api import ols  #ols: Ordinary Least Squares is a method for estimating the parameters in a linear regression model. It minimizes the sum of the squared differences between the observed and predicted values."
   ]
  },
  {
   "cell_type": "code",
   "execution_count": 59,
   "id": "d2cd3a9d",
   "metadata": {},
   "outputs": [],
   "source": [
    "df=pd.read_csv(\"2Way.csv\")"
   ]
  },
  {
   "cell_type": "code",
   "execution_count": 60,
   "id": "e80417a9",
   "metadata": {},
   "outputs": [
    {
     "data": {
      "text/html": [
       "<div>\n",
       "<style scoped>\n",
       "    .dataframe tbody tr th:only-of-type {\n",
       "        vertical-align: middle;\n",
       "    }\n",
       "\n",
       "    .dataframe tbody tr th {\n",
       "        vertical-align: top;\n",
       "    }\n",
       "\n",
       "    .dataframe thead th {\n",
       "        text-align: right;\n",
       "    }\n",
       "</style>\n",
       "<table border=\"1\" class=\"dataframe\">\n",
       "  <thead>\n",
       "    <tr style=\"text-align: right;\">\n",
       "      <th></th>\n",
       "      <th>workers</th>\n",
       "      <th>machine</th>\n",
       "      <th>def_items</th>\n",
       "    </tr>\n",
       "  </thead>\n",
       "  <tbody>\n",
       "    <tr>\n",
       "      <th>0</th>\n",
       "      <td>W1</td>\n",
       "      <td>M1</td>\n",
       "      <td>10</td>\n",
       "    </tr>\n",
       "    <tr>\n",
       "      <th>1</th>\n",
       "      <td>W1</td>\n",
       "      <td>M2</td>\n",
       "      <td>12</td>\n",
       "    </tr>\n",
       "    <tr>\n",
       "      <th>2</th>\n",
       "      <td>W1</td>\n",
       "      <td>M3</td>\n",
       "      <td>14</td>\n",
       "    </tr>\n",
       "    <tr>\n",
       "      <th>3</th>\n",
       "      <td>W1</td>\n",
       "      <td>M4</td>\n",
       "      <td>8</td>\n",
       "    </tr>\n",
       "    <tr>\n",
       "      <th>4</th>\n",
       "      <td>W2</td>\n",
       "      <td>M1</td>\n",
       "      <td>15</td>\n",
       "    </tr>\n",
       "    <tr>\n",
       "      <th>5</th>\n",
       "      <td>W2</td>\n",
       "      <td>M2</td>\n",
       "      <td>20</td>\n",
       "    </tr>\n",
       "    <tr>\n",
       "      <th>6</th>\n",
       "      <td>W2</td>\n",
       "      <td>M3</td>\n",
       "      <td>7</td>\n",
       "    </tr>\n",
       "    <tr>\n",
       "      <th>7</th>\n",
       "      <td>W2</td>\n",
       "      <td>M4</td>\n",
       "      <td>16</td>\n",
       "    </tr>\n",
       "    <tr>\n",
       "      <th>8</th>\n",
       "      <td>W3</td>\n",
       "      <td>M1</td>\n",
       "      <td>7</td>\n",
       "    </tr>\n",
       "    <tr>\n",
       "      <th>9</th>\n",
       "      <td>W3</td>\n",
       "      <td>M2</td>\n",
       "      <td>10</td>\n",
       "    </tr>\n",
       "    <tr>\n",
       "      <th>10</th>\n",
       "      <td>W3</td>\n",
       "      <td>M3</td>\n",
       "      <td>9</td>\n",
       "    </tr>\n",
       "    <tr>\n",
       "      <th>11</th>\n",
       "      <td>W3</td>\n",
       "      <td>M4</td>\n",
       "      <td>20</td>\n",
       "    </tr>\n",
       "    <tr>\n",
       "      <th>12</th>\n",
       "      <td>W4</td>\n",
       "      <td>M1</td>\n",
       "      <td>12</td>\n",
       "    </tr>\n",
       "    <tr>\n",
       "      <th>13</th>\n",
       "      <td>W4</td>\n",
       "      <td>M2</td>\n",
       "      <td>16</td>\n",
       "    </tr>\n",
       "    <tr>\n",
       "      <th>14</th>\n",
       "      <td>W4</td>\n",
       "      <td>M3</td>\n",
       "      <td>10</td>\n",
       "    </tr>\n",
       "    <tr>\n",
       "      <th>15</th>\n",
       "      <td>W4</td>\n",
       "      <td>M4</td>\n",
       "      <td>8</td>\n",
       "    </tr>\n",
       "  </tbody>\n",
       "</table>\n",
       "</div>"
      ],
      "text/plain": [
       "   workers machine  def_items\n",
       "0       W1      M1         10\n",
       "1       W1      M2         12\n",
       "2       W1      M3         14\n",
       "3       W1      M4          8\n",
       "4       W2      M1         15\n",
       "5       W2      M2         20\n",
       "6       W2      M3          7\n",
       "7       W2      M4         16\n",
       "8       W3      M1          7\n",
       "9       W3      M2         10\n",
       "10      W3      M3          9\n",
       "11      W3      M4         20\n",
       "12      W4      M1         12\n",
       "13      W4      M2         16\n",
       "14      W4      M3         10\n",
       "15      W4      M4          8"
      ]
     },
     "execution_count": 60,
     "metadata": {},
     "output_type": "execute_result"
    }
   ],
   "source": [
    "df"
   ]
  },
  {
   "cell_type": "code",
   "execution_count": 65,
   "id": "86d9b57d",
   "metadata": {
    "scrolled": true
   },
   "outputs": [],
   "source": [
    "Anova_model=ols(\"def_items~machine+workers\",data=df).fit()\n",
    "\n",
    "Two_way_Anova=sm.stats.anova_lm(Anova_model,type=2)   #type=2 refers to the type of sum of squares to be used in the analysis of variance (ANOVA). In the context of ANOVA, the type of sum of squares determines how the variance is partitioned into different components."
   ]
  },
  {
   "cell_type": "code",
   "execution_count": 64,
   "id": "83a28f22",
   "metadata": {},
   "outputs": [
    {
     "data": {
      "text/html": [
       "<div>\n",
       "<style scoped>\n",
       "    .dataframe tbody tr th:only-of-type {\n",
       "        vertical-align: middle;\n",
       "    }\n",
       "\n",
       "    .dataframe tbody tr th {\n",
       "        vertical-align: top;\n",
       "    }\n",
       "\n",
       "    .dataframe thead th {\n",
       "        text-align: right;\n",
       "    }\n",
       "</style>\n",
       "<table border=\"1\" class=\"dataframe\">\n",
       "  <thead>\n",
       "    <tr style=\"text-align: right;\">\n",
       "      <th></th>\n",
       "      <th>df</th>\n",
       "      <th>sum_sq</th>\n",
       "      <th>mean_sq</th>\n",
       "      <th>F</th>\n",
       "      <th>PR(&gt;F)</th>\n",
       "    </tr>\n",
       "  </thead>\n",
       "  <tbody>\n",
       "    <tr>\n",
       "      <th>machine</th>\n",
       "      <td>3.0</td>\n",
       "      <td>48.75</td>\n",
       "      <td>16.250000</td>\n",
       "      <td>0.745223</td>\n",
       "      <td>0.551740</td>\n",
       "    </tr>\n",
       "    <tr>\n",
       "      <th>workers</th>\n",
       "      <td>3.0</td>\n",
       "      <td>30.75</td>\n",
       "      <td>10.250000</td>\n",
       "      <td>0.470064</td>\n",
       "      <td>0.710521</td>\n",
       "    </tr>\n",
       "    <tr>\n",
       "      <th>Residual</th>\n",
       "      <td>9.0</td>\n",
       "      <td>196.25</td>\n",
       "      <td>21.805556</td>\n",
       "      <td>NaN</td>\n",
       "      <td>NaN</td>\n",
       "    </tr>\n",
       "  </tbody>\n",
       "</table>\n",
       "</div>"
      ],
      "text/plain": [
       "           df  sum_sq    mean_sq         F    PR(>F)\n",
       "machine   3.0   48.75  16.250000  0.745223  0.551740\n",
       "workers   3.0   30.75  10.250000  0.470064  0.710521\n",
       "Residual  9.0  196.25  21.805556       NaN       NaN"
      ]
     },
     "execution_count": 64,
     "metadata": {},
     "output_type": "execute_result"
    }
   ],
   "source": [
    "Two_way_Anova"
   ]
  },
  {
   "cell_type": "code",
   "execution_count": null,
   "id": "0482afae",
   "metadata": {},
   "outputs": [],
   "source": []
  }
 ],
 "metadata": {
  "kernelspec": {
   "display_name": "Python 3 (ipykernel)",
   "language": "python",
   "name": "python3"
  },
  "language_info": {
   "codemirror_mode": {
    "name": "ipython",
    "version": 3
   },
   "file_extension": ".py",
   "mimetype": "text/x-python",
   "name": "python",
   "nbconvert_exporter": "python",
   "pygments_lexer": "ipython3",
   "version": "3.9.13"
  }
 },
 "nbformat": 4,
 "nbformat_minor": 5
}

{
 "cells": [
  {
   "cell_type": "code",
   "execution_count": 1,
   "id": "80aeaec0",
   "metadata": {},
   "outputs": [],
   "source": [
    "import pandas as pd \n",
    "import numpy as np\n",
    "import matplotlib.pyplot as plt\n",
    "import seaborn as sns\n",
    "import warnings\n",
    "warnings.filterwarnings(\"ignore\")"
   ]
  },
  {
   "cell_type": "code",
   "execution_count": 2,
   "id": "1e82cfab",
   "metadata": {},
   "outputs": [],
   "source": [
    "data=pd.read_csv(r\"C:\\Users\\Dell\\Downloads\\daataa.csv\")"
   ]
  },
  {
   "cell_type": "code",
   "execution_count": 3,
   "id": "c88c103f",
   "metadata": {},
   "outputs": [
    {
     "data": {
      "text/html": [
       "<div>\n",
       "<style scoped>\n",
       "    .dataframe tbody tr th:only-of-type {\n",
       "        vertical-align: middle;\n",
       "    }\n",
       "\n",
       "    .dataframe tbody tr th {\n",
       "        vertical-align: top;\n",
       "    }\n",
       "\n",
       "    .dataframe thead th {\n",
       "        text-align: right;\n",
       "    }\n",
       "</style>\n",
       "<table border=\"1\" class=\"dataframe\">\n",
       "  <thead>\n",
       "    <tr style=\"text-align: right;\">\n",
       "      <th></th>\n",
       "      <th>Name</th>\n",
       "      <th>Gender</th>\n",
       "      <th>Age</th>\n",
       "      <th>Rating</th>\n",
       "      <th>Date Joined</th>\n",
       "      <th>Department</th>\n",
       "      <th>Salary</th>\n",
       "      <th>Country</th>\n",
       "    </tr>\n",
       "  </thead>\n",
       "  <tbody>\n",
       "    <tr>\n",
       "      <th>0</th>\n",
       "      <td>Deepali Charan</td>\n",
       "      <td>Male</td>\n",
       "      <td>20.0</td>\n",
       "      <td>Average</td>\n",
       "      <td>18-Oct-20</td>\n",
       "      <td>Website</td>\n",
       "      <td>112650.0</td>\n",
       "      <td>IND</td>\n",
       "    </tr>\n",
       "    <tr>\n",
       "      <th>1</th>\n",
       "      <td>Yagna Sujeev</td>\n",
       "      <td>Female</td>\n",
       "      <td>32.0</td>\n",
       "      <td>Above average</td>\n",
       "      <td>7-Apr-21</td>\n",
       "      <td>Website</td>\n",
       "      <td>43840.0</td>\n",
       "      <td>IND</td>\n",
       "    </tr>\n",
       "    <tr>\n",
       "      <th>2</th>\n",
       "      <td>Satyendra Venkatadri</td>\n",
       "      <td>Male</td>\n",
       "      <td>31.0</td>\n",
       "      <td>Average</td>\n",
       "      <td>12-Apr-22</td>\n",
       "      <td>Procurement</td>\n",
       "      <td>103550.0</td>\n",
       "      <td>IND</td>\n",
       "    </tr>\n",
       "    <tr>\n",
       "      <th>3</th>\n",
       "      <td>Madhavdas Buhpathi</td>\n",
       "      <td>Female</td>\n",
       "      <td>32.0</td>\n",
       "      <td>Average</td>\n",
       "      <td>23-May-21</td>\n",
       "      <td>HR</td>\n",
       "      <td>45510.0</td>\n",
       "      <td>IND</td>\n",
       "    </tr>\n",
       "    <tr>\n",
       "      <th>4</th>\n",
       "      <td>Sahila Chandrasekhar</td>\n",
       "      <td>NaN</td>\n",
       "      <td>37.0</td>\n",
       "      <td>Poor</td>\n",
       "      <td>11-Sep-20</td>\n",
       "      <td>Finance</td>\n",
       "      <td>115440.0</td>\n",
       "      <td>IND</td>\n",
       "    </tr>\n",
       "    <tr>\n",
       "      <th>...</th>\n",
       "      <td>...</td>\n",
       "      <td>...</td>\n",
       "      <td>...</td>\n",
       "      <td>...</td>\n",
       "      <td>...</td>\n",
       "      <td>...</td>\n",
       "      <td>...</td>\n",
       "      <td>...</td>\n",
       "    </tr>\n",
       "    <tr>\n",
       "      <th>209</th>\n",
       "      <td>Hoyt D'Alesco</td>\n",
       "      <td>Male</td>\n",
       "      <td>32.0</td>\n",
       "      <td>Average</td>\n",
       "      <td>26-Sep-21</td>\n",
       "      <td>Sales</td>\n",
       "      <td>53540.0</td>\n",
       "      <td>NZ</td>\n",
       "    </tr>\n",
       "    <tr>\n",
       "      <th>210</th>\n",
       "      <td>Halimeda Kuscha</td>\n",
       "      <td>Female</td>\n",
       "      <td>30.0</td>\n",
       "      <td>Average</td>\n",
       "      <td>27-Oct-22</td>\n",
       "      <td>Procurement</td>\n",
       "      <td>112570.0</td>\n",
       "      <td>NZ</td>\n",
       "    </tr>\n",
       "    <tr>\n",
       "      <th>211</th>\n",
       "      <td>Erin Androsik</td>\n",
       "      <td>Male</td>\n",
       "      <td>33.0</td>\n",
       "      <td>Above average</td>\n",
       "      <td>20-May-22</td>\n",
       "      <td>Procurement</td>\n",
       "      <td>48530.0</td>\n",
       "      <td>NZ</td>\n",
       "    </tr>\n",
       "    <tr>\n",
       "      <th>212</th>\n",
       "      <td>Vic Radolf</td>\n",
       "      <td>Female</td>\n",
       "      <td>24.0</td>\n",
       "      <td>Average</td>\n",
       "      <td>13-Nov-20</td>\n",
       "      <td>Website</td>\n",
       "      <td>62780.0</td>\n",
       "      <td>NZ</td>\n",
       "    </tr>\n",
       "    <tr>\n",
       "      <th>213</th>\n",
       "      <td>Total</td>\n",
       "      <td>NaN</td>\n",
       "      <td>NaN</td>\n",
       "      <td>100</td>\n",
       "      <td>NaN</td>\n",
       "      <td>NaN</td>\n",
       "      <td>77472.1</td>\n",
       "      <td>NZ</td>\n",
       "    </tr>\n",
       "  </tbody>\n",
       "</table>\n",
       "<p>214 rows × 8 columns</p>\n",
       "</div>"
      ],
      "text/plain": [
       "                     Name  Gender   Age         Rating Date Joined  \\\n",
       "0          Deepali Charan    Male  20.0        Average   18-Oct-20   \n",
       "1            Yagna Sujeev  Female  32.0  Above average    7-Apr-21   \n",
       "2    Satyendra Venkatadri    Male  31.0        Average   12-Apr-22   \n",
       "3      Madhavdas Buhpathi  Female  32.0        Average   23-May-21   \n",
       "4    Sahila Chandrasekhar     NaN  37.0           Poor   11-Sep-20   \n",
       "..                    ...     ...   ...            ...         ...   \n",
       "209         Hoyt D'Alesco    Male  32.0        Average   26-Sep-21   \n",
       "210       Halimeda Kuscha  Female  30.0        Average   27-Oct-22   \n",
       "211         Erin Androsik    Male  33.0  Above average   20-May-22   \n",
       "212            Vic Radolf  Female  24.0        Average   13-Nov-20   \n",
       "213                 Total     NaN   NaN            100         NaN   \n",
       "\n",
       "      Department    Salary Country  \n",
       "0        Website  112650.0     IND  \n",
       "1        Website   43840.0     IND  \n",
       "2    Procurement  103550.0     IND  \n",
       "3             HR   45510.0     IND  \n",
       "4        Finance  115440.0     IND  \n",
       "..           ...       ...     ...  \n",
       "209        Sales   53540.0      NZ  \n",
       "210  Procurement  112570.0      NZ  \n",
       "211  Procurement   48530.0      NZ  \n",
       "212      Website   62780.0      NZ  \n",
       "213          NaN   77472.1      NZ  \n",
       "\n",
       "[214 rows x 8 columns]"
      ]
     },
     "execution_count": 3,
     "metadata": {},
     "output_type": "execute_result"
    }
   ],
   "source": [
    "data"
   ]
  },
  {
   "cell_type": "code",
   "execution_count": 4,
   "id": "75faaca9",
   "metadata": {},
   "outputs": [
    {
     "data": {
      "text/plain": [
       "(214, 8)"
      ]
     },
     "execution_count": 4,
     "metadata": {},
     "output_type": "execute_result"
    }
   ],
   "source": [
    "data.shape"
   ]
  },
  {
   "cell_type": "code",
   "execution_count": 5,
   "id": "1337083d",
   "metadata": {},
   "outputs": [
    {
     "data": {
      "text/html": [
       "<div>\n",
       "<style scoped>\n",
       "    .dataframe tbody tr th:only-of-type {\n",
       "        vertical-align: middle;\n",
       "    }\n",
       "\n",
       "    .dataframe tbody tr th {\n",
       "        vertical-align: top;\n",
       "    }\n",
       "\n",
       "    .dataframe thead th {\n",
       "        text-align: right;\n",
       "    }\n",
       "</style>\n",
       "<table border=\"1\" class=\"dataframe\">\n",
       "  <thead>\n",
       "    <tr style=\"text-align: right;\">\n",
       "      <th></th>\n",
       "      <th>Age</th>\n",
       "      <th>Salary</th>\n",
       "    </tr>\n",
       "  </thead>\n",
       "  <tbody>\n",
       "    <tr>\n",
       "      <th>count</th>\n",
       "      <td>212.000000</td>\n",
       "      <td>2.140000e+02</td>\n",
       "    </tr>\n",
       "    <tr>\n",
       "      <th>mean</th>\n",
       "      <td>30.443396</td>\n",
       "      <td>1.184137e+05</td>\n",
       "    </tr>\n",
       "    <tr>\n",
       "      <th>std</th>\n",
       "      <td>6.091841</td>\n",
       "      <td>5.938894e+05</td>\n",
       "    </tr>\n",
       "    <tr>\n",
       "      <th>min</th>\n",
       "      <td>19.000000</td>\n",
       "      <td>3.392000e+04</td>\n",
       "    </tr>\n",
       "    <tr>\n",
       "      <th>25%</th>\n",
       "      <td>26.750000</td>\n",
       "      <td>5.687000e+04</td>\n",
       "    </tr>\n",
       "    <tr>\n",
       "      <th>50%</th>\n",
       "      <td>30.000000</td>\n",
       "      <td>7.538000e+04</td>\n",
       "    </tr>\n",
       "    <tr>\n",
       "      <th>75%</th>\n",
       "      <td>34.000000</td>\n",
       "      <td>1.035500e+05</td>\n",
       "    </tr>\n",
       "    <tr>\n",
       "      <th>max</th>\n",
       "      <td>46.000000</td>\n",
       "      <td>8.757930e+06</td>\n",
       "    </tr>\n",
       "  </tbody>\n",
       "</table>\n",
       "</div>"
      ],
      "text/plain": [
       "              Age        Salary\n",
       "count  212.000000  2.140000e+02\n",
       "mean    30.443396  1.184137e+05\n",
       "std      6.091841  5.938894e+05\n",
       "min     19.000000  3.392000e+04\n",
       "25%     26.750000  5.687000e+04\n",
       "50%     30.000000  7.538000e+04\n",
       "75%     34.000000  1.035500e+05\n",
       "max     46.000000  8.757930e+06"
      ]
     },
     "execution_count": 5,
     "metadata": {},
     "output_type": "execute_result"
    }
   ],
   "source": [
    "data.describe()"
   ]
  },
  {
   "cell_type": "code",
   "execution_count": 6,
   "id": "9d8d8526",
   "metadata": {},
   "outputs": [
    {
     "name": "stdout",
     "output_type": "stream",
     "text": [
      "<class 'pandas.core.frame.DataFrame'>\n",
      "RangeIndex: 214 entries, 0 to 213\n",
      "Data columns (total 8 columns):\n",
      " #   Column       Non-Null Count  Dtype  \n",
      "---  ------       --------------  -----  \n",
      " 0   Name         214 non-null    object \n",
      " 1   Gender       201 non-null    object \n",
      " 2   Age          212 non-null    float64\n",
      " 3   Rating       213 non-null    object \n",
      " 4   Date Joined  212 non-null    object \n",
      " 5   Department   212 non-null    object \n",
      " 6   Salary       214 non-null    float64\n",
      " 7   Country      214 non-null    object \n",
      "dtypes: float64(2), object(6)\n",
      "memory usage: 13.5+ KB\n"
     ]
    }
   ],
   "source": [
    "data.info()"
   ]
  },
  {
   "cell_type": "code",
   "execution_count": 7,
   "id": "11866eb1",
   "metadata": {},
   "outputs": [
    {
     "data": {
      "text/plain": [
       "28"
      ]
     },
     "execution_count": 7,
     "metadata": {},
     "output_type": "execute_result"
    }
   ],
   "source": [
    "data.duplicated().sum()"
   ]
  },
  {
   "cell_type": "raw",
   "id": "64e6e35f",
   "metadata": {},
   "source": [
    "There are 28 duplicated data so first we will remove them."
   ]
  },
  {
   "cell_type": "code",
   "execution_count": 8,
   "id": "a3fdbd69",
   "metadata": {},
   "outputs": [],
   "source": [
    "data=data.drop_duplicates()"
   ]
  },
  {
   "cell_type": "code",
   "execution_count": 9,
   "id": "0f4ea46e",
   "metadata": {},
   "outputs": [],
   "source": [
    "data=data.reset_index(drop=True)"
   ]
  },
  {
   "cell_type": "code",
   "execution_count": 10,
   "id": "b3576713",
   "metadata": {},
   "outputs": [
    {
     "data": {
      "text/html": [
       "<div>\n",
       "<style scoped>\n",
       "    .dataframe tbody tr th:only-of-type {\n",
       "        vertical-align: middle;\n",
       "    }\n",
       "\n",
       "    .dataframe tbody tr th {\n",
       "        vertical-align: top;\n",
       "    }\n",
       "\n",
       "    .dataframe thead th {\n",
       "        text-align: right;\n",
       "    }\n",
       "</style>\n",
       "<table border=\"1\" class=\"dataframe\">\n",
       "  <thead>\n",
       "    <tr style=\"text-align: right;\">\n",
       "      <th></th>\n",
       "      <th>Name</th>\n",
       "      <th>Gender</th>\n",
       "      <th>Age</th>\n",
       "      <th>Rating</th>\n",
       "      <th>Date Joined</th>\n",
       "      <th>Department</th>\n",
       "      <th>Salary</th>\n",
       "      <th>Country</th>\n",
       "    </tr>\n",
       "  </thead>\n",
       "  <tbody>\n",
       "    <tr>\n",
       "      <th>0</th>\n",
       "      <td>Deepali Charan</td>\n",
       "      <td>Male</td>\n",
       "      <td>20.0</td>\n",
       "      <td>Average</td>\n",
       "      <td>18-Oct-20</td>\n",
       "      <td>Website</td>\n",
       "      <td>112650.0</td>\n",
       "      <td>IND</td>\n",
       "    </tr>\n",
       "    <tr>\n",
       "      <th>1</th>\n",
       "      <td>Yagna Sujeev</td>\n",
       "      <td>Female</td>\n",
       "      <td>32.0</td>\n",
       "      <td>Above average</td>\n",
       "      <td>7-Apr-21</td>\n",
       "      <td>Website</td>\n",
       "      <td>43840.0</td>\n",
       "      <td>IND</td>\n",
       "    </tr>\n",
       "    <tr>\n",
       "      <th>2</th>\n",
       "      <td>Satyendra Venkatadri</td>\n",
       "      <td>Male</td>\n",
       "      <td>31.0</td>\n",
       "      <td>Average</td>\n",
       "      <td>12-Apr-22</td>\n",
       "      <td>Procurement</td>\n",
       "      <td>103550.0</td>\n",
       "      <td>IND</td>\n",
       "    </tr>\n",
       "    <tr>\n",
       "      <th>3</th>\n",
       "      <td>Madhavdas Buhpathi</td>\n",
       "      <td>Female</td>\n",
       "      <td>32.0</td>\n",
       "      <td>Average</td>\n",
       "      <td>23-May-21</td>\n",
       "      <td>HR</td>\n",
       "      <td>45510.0</td>\n",
       "      <td>IND</td>\n",
       "    </tr>\n",
       "    <tr>\n",
       "      <th>4</th>\n",
       "      <td>Sahila Chandrasekhar</td>\n",
       "      <td>NaN</td>\n",
       "      <td>37.0</td>\n",
       "      <td>Poor</td>\n",
       "      <td>11-Sep-20</td>\n",
       "      <td>Finance</td>\n",
       "      <td>115440.0</td>\n",
       "      <td>IND</td>\n",
       "    </tr>\n",
       "    <tr>\n",
       "      <th>...</th>\n",
       "      <td>...</td>\n",
       "      <td>...</td>\n",
       "      <td>...</td>\n",
       "      <td>...</td>\n",
       "      <td>...</td>\n",
       "      <td>...</td>\n",
       "      <td>...</td>\n",
       "      <td>...</td>\n",
       "    </tr>\n",
       "    <tr>\n",
       "      <th>181</th>\n",
       "      <td>Gigi Bohling</td>\n",
       "      <td>Male</td>\n",
       "      <td>33.0</td>\n",
       "      <td>Average</td>\n",
       "      <td>8-Jul-21</td>\n",
       "      <td>Sales</td>\n",
       "      <td>74550.0</td>\n",
       "      <td>NZ</td>\n",
       "    </tr>\n",
       "    <tr>\n",
       "      <th>182</th>\n",
       "      <td>Ebonee Roxburgh</td>\n",
       "      <td>Male</td>\n",
       "      <td>30.0</td>\n",
       "      <td>Average</td>\n",
       "      <td>20-May-22</td>\n",
       "      <td>Procurement</td>\n",
       "      <td>67950.0</td>\n",
       "      <td>NZ</td>\n",
       "    </tr>\n",
       "    <tr>\n",
       "      <th>183</th>\n",
       "      <td>Shayne Stegel</td>\n",
       "      <td>Male</td>\n",
       "      <td>42.0</td>\n",
       "      <td>Poor</td>\n",
       "      <td>19-Jun-22</td>\n",
       "      <td>Finance</td>\n",
       "      <td>70270.0</td>\n",
       "      <td>NZ</td>\n",
       "    </tr>\n",
       "    <tr>\n",
       "      <th>184</th>\n",
       "      <td>Zach Polon</td>\n",
       "      <td>Male</td>\n",
       "      <td>26.0</td>\n",
       "      <td>Average</td>\n",
       "      <td>3-Aug-21</td>\n",
       "      <td>Procurement</td>\n",
       "      <td>53540.0</td>\n",
       "      <td>NZ</td>\n",
       "    </tr>\n",
       "    <tr>\n",
       "      <th>185</th>\n",
       "      <td>Total</td>\n",
       "      <td>NaN</td>\n",
       "      <td>NaN</td>\n",
       "      <td>100</td>\n",
       "      <td>NaN</td>\n",
       "      <td>NaN</td>\n",
       "      <td>77472.1</td>\n",
       "      <td>NZ</td>\n",
       "    </tr>\n",
       "  </tbody>\n",
       "</table>\n",
       "<p>186 rows × 8 columns</p>\n",
       "</div>"
      ],
      "text/plain": [
       "                     Name  Gender   Age         Rating Date Joined  \\\n",
       "0          Deepali Charan    Male  20.0        Average   18-Oct-20   \n",
       "1            Yagna Sujeev  Female  32.0  Above average    7-Apr-21   \n",
       "2    Satyendra Venkatadri    Male  31.0        Average   12-Apr-22   \n",
       "3      Madhavdas Buhpathi  Female  32.0        Average   23-May-21   \n",
       "4    Sahila Chandrasekhar     NaN  37.0           Poor   11-Sep-20   \n",
       "..                    ...     ...   ...            ...         ...   \n",
       "181          Gigi Bohling    Male  33.0        Average    8-Jul-21   \n",
       "182       Ebonee Roxburgh    Male  30.0        Average   20-May-22   \n",
       "183         Shayne Stegel    Male  42.0           Poor   19-Jun-22   \n",
       "184            Zach Polon    Male  26.0        Average    3-Aug-21   \n",
       "185                 Total     NaN   NaN            100         NaN   \n",
       "\n",
       "      Department    Salary Country  \n",
       "0        Website  112650.0     IND  \n",
       "1        Website   43840.0     IND  \n",
       "2    Procurement  103550.0     IND  \n",
       "3             HR   45510.0     IND  \n",
       "4        Finance  115440.0     IND  \n",
       "..           ...       ...     ...  \n",
       "181        Sales   74550.0      NZ  \n",
       "182  Procurement   67950.0      NZ  \n",
       "183      Finance   70270.0      NZ  \n",
       "184  Procurement   53540.0      NZ  \n",
       "185          NaN   77472.1      NZ  \n",
       "\n",
       "[186 rows x 8 columns]"
      ]
     },
     "execution_count": 10,
     "metadata": {},
     "output_type": "execute_result"
    }
   ],
   "source": [
    "data"
   ]
  },
  {
   "cell_type": "markdown",
   "id": "40f6a80c",
   "metadata": {},
   "source": [
    "## Checking Features"
   ]
  },
  {
   "cell_type": "code",
   "execution_count": 11,
   "id": "89c17c44",
   "metadata": {},
   "outputs": [
    {
     "data": {
      "text/plain": [
       "10"
      ]
     },
     "execution_count": 11,
     "metadata": {},
     "output_type": "execute_result"
    }
   ],
   "source": [
    "data['Gender'].isna().sum()"
   ]
  },
  {
   "cell_type": "code",
   "execution_count": 12,
   "id": "b1fc8212",
   "metadata": {},
   "outputs": [
    {
     "data": {
      "text/plain": [
       "array(['Male', 'Female', nan], dtype=object)"
      ]
     },
     "execution_count": 12,
     "metadata": {},
     "output_type": "execute_result"
    }
   ],
   "source": [
    "data['Gender'].unique()"
   ]
  },
  {
   "cell_type": "code",
   "execution_count": 13,
   "id": "5488e7d0",
   "metadata": {},
   "outputs": [
    {
     "data": {
      "text/plain": [
       "count    184.000000\n",
       "mean      30.445652\n",
       "std        6.055958\n",
       "min       19.000000\n",
       "25%       27.000000\n",
       "50%       30.000000\n",
       "75%       34.000000\n",
       "max       46.000000\n",
       "Name: Age, dtype: float64"
      ]
     },
     "execution_count": 13,
     "metadata": {},
     "output_type": "execute_result"
    }
   ],
   "source": [
    "data['Age'].describe()"
   ]
  },
  {
   "cell_type": "code",
   "execution_count": 14,
   "id": "528ff415",
   "metadata": {},
   "outputs": [
    {
     "data": {
      "text/plain": [
       "1"
      ]
     },
     "execution_count": 14,
     "metadata": {},
     "output_type": "execute_result"
    }
   ],
   "source": [
    "data['Rating'].isna().sum()"
   ]
  },
  {
   "cell_type": "code",
   "execution_count": 15,
   "id": "948dfea2",
   "metadata": {},
   "outputs": [
    {
     "data": {
      "text/plain": [
       "count           184\n",
       "unique          161\n",
       "top       20-May-22\n",
       "freq              4\n",
       "Name: Date Joined, dtype: object"
      ]
     },
     "execution_count": 15,
     "metadata": {},
     "output_type": "execute_result"
    }
   ],
   "source": [
    "data['Date Joined'].describe()"
   ]
  },
  {
   "cell_type": "code",
   "execution_count": 16,
   "id": "7b48994b",
   "metadata": {},
   "outputs": [
    {
     "data": {
      "text/plain": [
       "2"
      ]
     },
     "execution_count": 16,
     "metadata": {},
     "output_type": "execute_result"
    }
   ],
   "source": [
    "data['Department'].isna().sum()"
   ]
  },
  {
   "cell_type": "code",
   "execution_count": 17,
   "id": "552ec40a",
   "metadata": {},
   "outputs": [
    {
     "data": {
      "text/plain": [
       "<bound method Series.info of 0          Website\n",
       "1          Website\n",
       "2      Procurement\n",
       "3               HR\n",
       "4          Finance\n",
       "          ...     \n",
       "181          Sales\n",
       "182    Procurement\n",
       "183        Finance\n",
       "184    Procurement\n",
       "185            NaN\n",
       "Name: Department, Length: 186, dtype: object>"
      ]
     },
     "execution_count": 17,
     "metadata": {},
     "output_type": "execute_result"
    }
   ],
   "source": [
    "data['Department'].info"
   ]
  },
  {
   "cell_type": "code",
   "execution_count": 18,
   "id": "e068d7b8",
   "metadata": {},
   "outputs": [
    {
     "data": {
      "text/plain": [
       "<bound method Series.info of 0      112650.0\n",
       "1       43840.0\n",
       "2      103550.0\n",
       "3       45510.0\n",
       "4      115440.0\n",
       "         ...   \n",
       "181     74550.0\n",
       "182     67950.0\n",
       "183     70270.0\n",
       "184     53540.0\n",
       "185     77472.1\n",
       "Name: Salary, Length: 186, dtype: float64>"
      ]
     },
     "execution_count": 18,
     "metadata": {},
     "output_type": "execute_result"
    }
   ],
   "source": [
    "data['Salary'].info"
   ]
  },
  {
   "cell_type": "code",
   "execution_count": 19,
   "id": "8e7eb75e",
   "metadata": {},
   "outputs": [
    {
     "name": "stdout",
     "output_type": "stream",
     "text": [
      "<class 'pandas.core.series.Series'>\n",
      "RangeIndex: 186 entries, 0 to 185\n",
      "Series name: Country\n",
      "Non-Null Count  Dtype \n",
      "--------------  ----- \n",
      "186 non-null    object\n",
      "dtypes: object(1)\n",
      "memory usage: 1.6+ KB\n"
     ]
    }
   ],
   "source": [
    "data['Country'].info()"
   ]
  },
  {
   "cell_type": "markdown",
   "id": "f9edd6af",
   "metadata": {},
   "source": [
    "## we have analysed the given errors and problems in the data.\n",
    "##### The gender column contain nan values.\n",
    "##### The Age column type is not correct.\n",
    "##### Rating contain 1 missing value.\n",
    "##### data is not in correct formate.\n",
    "##### department contain 2 missing departments name.\n",
    "##### The salaries should be in dollers.\n",
    "\n",
    "\n",
    "\n",
    "\n",
    "\n",
    "\n",
    "\n"
   ]
  },
  {
   "cell_type": "markdown",
   "id": "784f3947",
   "metadata": {},
   "source": [
    "# Data Preprocessing "
   ]
  },
  {
   "cell_type": "markdown",
   "id": "306ba998",
   "metadata": {},
   "source": [
    "### Data Cleaning"
   ]
  },
  {
   "cell_type": "code",
   "execution_count": 20,
   "id": "2432894e",
   "metadata": {},
   "outputs": [],
   "source": [
    "def replace_non_gender(gender):\n",
    "    if gender not in ['Male', 'Female']:\n",
    "        return 'Other'\n",
    "    return gender\n",
    "data['Gender'] = data['Gender'].apply(replace_non_gender)"
   ]
  },
  {
   "cell_type": "code",
   "execution_count": 21,
   "id": "1337078e",
   "metadata": {},
   "outputs": [
    {
     "data": {
      "text/plain": [
       "array(['Male', 'Female', 'Other'], dtype=object)"
      ]
     },
     "execution_count": 21,
     "metadata": {},
     "output_type": "execute_result"
    }
   ],
   "source": [
    "data['Gender'].unique()"
   ]
  },
  {
   "cell_type": "code",
   "execution_count": 22,
   "id": "1922853c",
   "metadata": {},
   "outputs": [
    {
     "data": {
      "text/plain": [
       "array([20., 32., 31., 37., 38., 25., 33., 40., 30., 28., 21., 34., 36.,\n",
       "       22., 27., 43., 42., 35., 24., 44., 26., 29., 23., 19., 46., nan])"
      ]
     },
     "execution_count": 22,
     "metadata": {},
     "output_type": "execute_result"
    }
   ],
   "source": [
    "data['Age'].unique()"
   ]
  },
  {
   "cell_type": "code",
   "execution_count": 23,
   "id": "610072bb",
   "metadata": {},
   "outputs": [],
   "source": [
    "age_mean=data['Age'].mean()"
   ]
  },
  {
   "cell_type": "code",
   "execution_count": 24,
   "id": "3f677e03",
   "metadata": {},
   "outputs": [],
   "source": [
    "data['Age'].fillna(value=age_mean,inplace=True)"
   ]
  },
  {
   "cell_type": "code",
   "execution_count": 25,
   "id": "104fd043",
   "metadata": {},
   "outputs": [
    {
     "data": {
      "text/plain": [
       "0"
      ]
     },
     "execution_count": 25,
     "metadata": {},
     "output_type": "execute_result"
    }
   ],
   "source": [
    "data['Age'].isna().sum()"
   ]
  },
  {
   "cell_type": "code",
   "execution_count": 26,
   "id": "83740e79",
   "metadata": {},
   "outputs": [],
   "source": [
    "data['Age']=data['Age'].astype(int)"
   ]
  },
  {
   "cell_type": "raw",
   "id": "afe674a2",
   "metadata": {},
   "source": [
    "IF don't have employee joining date we can remove his data."
   ]
  },
  {
   "cell_type": "code",
   "execution_count": 27,
   "id": "7e58358a",
   "metadata": {},
   "outputs": [
    {
     "data": {
      "text/plain": [
       "Int64Index([92, 185], dtype='int64')"
      ]
     },
     "execution_count": 27,
     "metadata": {},
     "output_type": "execute_result"
    }
   ],
   "source": [
    "#Getting the indexes.\n",
    "data['Date Joined'].index[data.isnull().any(axis=1)]"
   ]
  },
  {
   "cell_type": "code",
   "execution_count": 28,
   "id": "4634e1de",
   "metadata": {},
   "outputs": [
    {
     "data": {
      "text/html": [
       "<div>\n",
       "<style scoped>\n",
       "    .dataframe tbody tr th:only-of-type {\n",
       "        vertical-align: middle;\n",
       "    }\n",
       "\n",
       "    .dataframe tbody tr th {\n",
       "        vertical-align: top;\n",
       "    }\n",
       "\n",
       "    .dataframe thead th {\n",
       "        text-align: right;\n",
       "    }\n",
       "</style>\n",
       "<table border=\"1\" class=\"dataframe\">\n",
       "  <thead>\n",
       "    <tr style=\"text-align: right;\">\n",
       "      <th></th>\n",
       "      <th>Name</th>\n",
       "      <th>Gender</th>\n",
       "      <th>Age</th>\n",
       "      <th>Rating</th>\n",
       "      <th>Date Joined</th>\n",
       "      <th>Department</th>\n",
       "      <th>Salary</th>\n",
       "      <th>Country</th>\n",
       "    </tr>\n",
       "  </thead>\n",
       "  <tbody>\n",
       "    <tr>\n",
       "      <th>92</th>\n",
       "      <td>Total</td>\n",
       "      <td>Other</td>\n",
       "      <td>30</td>\n",
       "      <td>NaN</td>\n",
       "      <td>NaN</td>\n",
       "      <td>NaN</td>\n",
       "      <td>8757930.0</td>\n",
       "      <td>IND</td>\n",
       "    </tr>\n",
       "    <tr>\n",
       "      <th>185</th>\n",
       "      <td>Total</td>\n",
       "      <td>Other</td>\n",
       "      <td>30</td>\n",
       "      <td>100</td>\n",
       "      <td>NaN</td>\n",
       "      <td>NaN</td>\n",
       "      <td>77472.1</td>\n",
       "      <td>NZ</td>\n",
       "    </tr>\n",
       "  </tbody>\n",
       "</table>\n",
       "</div>"
      ],
      "text/plain": [
       "      Name Gender  Age Rating Date Joined Department     Salary Country\n",
       "92   Total  Other   30    NaN         NaN        NaN  8757930.0     IND\n",
       "185  Total  Other   30    100         NaN        NaN    77472.1      NZ"
      ]
     },
     "execution_count": 28,
     "metadata": {},
     "output_type": "execute_result"
    }
   ],
   "source": [
    "data.loc[[92,185]]\n",
    "#these indexs need to be remove."
   ]
  },
  {
   "cell_type": "code",
   "execution_count": 29,
   "id": "9b62d2d4",
   "metadata": {},
   "outputs": [],
   "source": [
    "data=data.drop([data.index[92],data.index[185]])"
   ]
  },
  {
   "cell_type": "raw",
   "id": "4b01d769",
   "metadata": {},
   "source": [
    "Converting data type of date."
   ]
  },
  {
   "cell_type": "code",
   "execution_count": 30,
   "id": "9bb1d0af",
   "metadata": {},
   "outputs": [],
   "source": [
    "data['Date Joined']= pd.to_datetime(data['Date Joined'], format='%d-%b-%y')"
   ]
  },
  {
   "cell_type": "code",
   "execution_count": 31,
   "id": "a32a5c34",
   "metadata": {},
   "outputs": [
    {
     "data": {
      "text/plain": [
       "0     2020-10-18\n",
       "1     2021-04-07\n",
       "2     2022-04-12\n",
       "3     2021-05-23\n",
       "4     2020-09-11\n",
       "         ...    \n",
       "180   2021-04-26\n",
       "181   2021-07-08\n",
       "182   2022-05-20\n",
       "183   2022-06-19\n",
       "184   2021-08-03\n",
       "Name: Date Joined, Length: 184, dtype: datetime64[ns]"
      ]
     },
     "execution_count": 31,
     "metadata": {},
     "output_type": "execute_result"
    }
   ],
   "source": [
    "data['Date Joined']"
   ]
  },
  {
   "cell_type": "code",
   "execution_count": 32,
   "id": "68b6a81d",
   "metadata": {},
   "outputs": [
    {
     "data": {
      "text/plain": [
       "array(['Average', 'Above average', 'Poor', 'Exceptional', 'Very poor'],\n",
       "      dtype=object)"
      ]
     },
     "execution_count": 32,
     "metadata": {},
     "output_type": "execute_result"
    }
   ],
   "source": [
    "data['Rating'].unique()"
   ]
  },
  {
   "cell_type": "code",
   "execution_count": 33,
   "id": "801c5178",
   "metadata": {},
   "outputs": [
    {
     "data": {
      "text/plain": [
       "array(['Website', 'Procurement', 'HR', 'Finance', 'Sales'], dtype=object)"
      ]
     },
     "execution_count": 33,
     "metadata": {},
     "output_type": "execute_result"
    }
   ],
   "source": [
    "data['Department'].unique()"
   ]
  },
  {
   "cell_type": "code",
   "execution_count": 34,
   "id": "9ac92c76",
   "metadata": {},
   "outputs": [
    {
     "data": {
      "text/plain": [
       "0      112650.0\n",
       "1       43840.0\n",
       "2      103550.0\n",
       "3       45510.0\n",
       "4      115440.0\n",
       "         ...   \n",
       "180     75280.0\n",
       "181     74550.0\n",
       "182     67950.0\n",
       "183     70270.0\n",
       "184     53540.0\n",
       "Name: Salary, Length: 184, dtype: float64"
      ]
     },
     "execution_count": 34,
     "metadata": {},
     "output_type": "execute_result"
    }
   ],
   "source": [
    "#Changing the formate of currency.\n",
    "data['Salary']"
   ]
  },
  {
   "cell_type": "code",
   "execution_count": 35,
   "id": "b8a19beb",
   "metadata": {},
   "outputs": [
    {
     "data": {
      "text/plain": [
       "0      112650.0\n",
       "1       43840.0\n",
       "2      103550.0\n",
       "3       45510.0\n",
       "4      115440.0\n",
       "         ...   \n",
       "180     75280.0\n",
       "181     74550.0\n",
       "182     67950.0\n",
       "183     70270.0\n",
       "184     53540.0\n",
       "Name: Salary, Length: 184, dtype: float64"
      ]
     },
     "execution_count": 35,
     "metadata": {},
     "output_type": "execute_result"
    }
   ],
   "source": [
    "data['Salary']"
   ]
  },
  {
   "cell_type": "code",
   "execution_count": 36,
   "id": "369ed2a0",
   "metadata": {},
   "outputs": [],
   "source": [
    "salary_mean=data['Salary'].mean()"
   ]
  },
  {
   "cell_type": "code",
   "execution_count": 37,
   "id": "3874767d",
   "metadata": {},
   "outputs": [],
   "source": [
    "data['Salary']=data['Salary'].astype(float)"
   ]
  },
  {
   "cell_type": "code",
   "execution_count": 38,
   "id": "738cd086",
   "metadata": {},
   "outputs": [],
   "source": [
    "data['Salary'] = data['Salary'].apply(lambda x: f\"${x:,.2f}\")"
   ]
  },
  {
   "cell_type": "code",
   "execution_count": 39,
   "id": "39b0ac20",
   "metadata": {},
   "outputs": [
    {
     "data": {
      "text/html": [
       "<div>\n",
       "<style scoped>\n",
       "    .dataframe tbody tr th:only-of-type {\n",
       "        vertical-align: middle;\n",
       "    }\n",
       "\n",
       "    .dataframe tbody tr th {\n",
       "        vertical-align: top;\n",
       "    }\n",
       "\n",
       "    .dataframe thead th {\n",
       "        text-align: right;\n",
       "    }\n",
       "</style>\n",
       "<table border=\"1\" class=\"dataframe\">\n",
       "  <thead>\n",
       "    <tr style=\"text-align: right;\">\n",
       "      <th></th>\n",
       "      <th>Name</th>\n",
       "      <th>Gender</th>\n",
       "      <th>Age</th>\n",
       "      <th>Rating</th>\n",
       "      <th>Date Joined</th>\n",
       "      <th>Department</th>\n",
       "      <th>Salary</th>\n",
       "      <th>Country</th>\n",
       "    </tr>\n",
       "  </thead>\n",
       "  <tbody>\n",
       "    <tr>\n",
       "      <th>0</th>\n",
       "      <td>Deepali Charan</td>\n",
       "      <td>Male</td>\n",
       "      <td>20</td>\n",
       "      <td>Average</td>\n",
       "      <td>2020-10-18</td>\n",
       "      <td>Website</td>\n",
       "      <td>$112,650.00</td>\n",
       "      <td>IND</td>\n",
       "    </tr>\n",
       "    <tr>\n",
       "      <th>1</th>\n",
       "      <td>Yagna Sujeev</td>\n",
       "      <td>Female</td>\n",
       "      <td>32</td>\n",
       "      <td>Above average</td>\n",
       "      <td>2021-04-07</td>\n",
       "      <td>Website</td>\n",
       "      <td>$43,840.00</td>\n",
       "      <td>IND</td>\n",
       "    </tr>\n",
       "    <tr>\n",
       "      <th>2</th>\n",
       "      <td>Satyendra Venkatadri</td>\n",
       "      <td>Male</td>\n",
       "      <td>31</td>\n",
       "      <td>Average</td>\n",
       "      <td>2022-04-12</td>\n",
       "      <td>Procurement</td>\n",
       "      <td>$103,550.00</td>\n",
       "      <td>IND</td>\n",
       "    </tr>\n",
       "    <tr>\n",
       "      <th>3</th>\n",
       "      <td>Madhavdas Buhpathi</td>\n",
       "      <td>Female</td>\n",
       "      <td>32</td>\n",
       "      <td>Average</td>\n",
       "      <td>2021-05-23</td>\n",
       "      <td>HR</td>\n",
       "      <td>$45,510.00</td>\n",
       "      <td>IND</td>\n",
       "    </tr>\n",
       "    <tr>\n",
       "      <th>4</th>\n",
       "      <td>Sahila Chandrasekhar</td>\n",
       "      <td>Other</td>\n",
       "      <td>37</td>\n",
       "      <td>Poor</td>\n",
       "      <td>2020-09-11</td>\n",
       "      <td>Finance</td>\n",
       "      <td>$115,440.00</td>\n",
       "      <td>IND</td>\n",
       "    </tr>\n",
       "    <tr>\n",
       "      <th>...</th>\n",
       "      <td>...</td>\n",
       "      <td>...</td>\n",
       "      <td>...</td>\n",
       "      <td>...</td>\n",
       "      <td>...</td>\n",
       "      <td>...</td>\n",
       "      <td>...</td>\n",
       "      <td>...</td>\n",
       "    </tr>\n",
       "    <tr>\n",
       "      <th>180</th>\n",
       "      <td>Elia Cockton</td>\n",
       "      <td>Female</td>\n",
       "      <td>33</td>\n",
       "      <td>Average</td>\n",
       "      <td>2021-04-26</td>\n",
       "      <td>Website</td>\n",
       "      <td>$75,280.00</td>\n",
       "      <td>NZ</td>\n",
       "    </tr>\n",
       "    <tr>\n",
       "      <th>181</th>\n",
       "      <td>Gigi Bohling</td>\n",
       "      <td>Male</td>\n",
       "      <td>33</td>\n",
       "      <td>Average</td>\n",
       "      <td>2021-07-08</td>\n",
       "      <td>Sales</td>\n",
       "      <td>$74,550.00</td>\n",
       "      <td>NZ</td>\n",
       "    </tr>\n",
       "    <tr>\n",
       "      <th>182</th>\n",
       "      <td>Ebonee Roxburgh</td>\n",
       "      <td>Male</td>\n",
       "      <td>30</td>\n",
       "      <td>Average</td>\n",
       "      <td>2022-05-20</td>\n",
       "      <td>Procurement</td>\n",
       "      <td>$67,950.00</td>\n",
       "      <td>NZ</td>\n",
       "    </tr>\n",
       "    <tr>\n",
       "      <th>183</th>\n",
       "      <td>Shayne Stegel</td>\n",
       "      <td>Male</td>\n",
       "      <td>42</td>\n",
       "      <td>Poor</td>\n",
       "      <td>2022-06-19</td>\n",
       "      <td>Finance</td>\n",
       "      <td>$70,270.00</td>\n",
       "      <td>NZ</td>\n",
       "    </tr>\n",
       "    <tr>\n",
       "      <th>184</th>\n",
       "      <td>Zach Polon</td>\n",
       "      <td>Male</td>\n",
       "      <td>26</td>\n",
       "      <td>Average</td>\n",
       "      <td>2021-08-03</td>\n",
       "      <td>Procurement</td>\n",
       "      <td>$53,540.00</td>\n",
       "      <td>NZ</td>\n",
       "    </tr>\n",
       "  </tbody>\n",
       "</table>\n",
       "<p>184 rows × 8 columns</p>\n",
       "</div>"
      ],
      "text/plain": [
       "                     Name  Gender  Age         Rating Date Joined  \\\n",
       "0          Deepali Charan    Male   20        Average  2020-10-18   \n",
       "1            Yagna Sujeev  Female   32  Above average  2021-04-07   \n",
       "2    Satyendra Venkatadri    Male   31        Average  2022-04-12   \n",
       "3      Madhavdas Buhpathi  Female   32        Average  2021-05-23   \n",
       "4    Sahila Chandrasekhar   Other   37           Poor  2020-09-11   \n",
       "..                    ...     ...  ...            ...         ...   \n",
       "180          Elia Cockton  Female   33        Average  2021-04-26   \n",
       "181          Gigi Bohling    Male   33        Average  2021-07-08   \n",
       "182       Ebonee Roxburgh    Male   30        Average  2022-05-20   \n",
       "183         Shayne Stegel    Male   42           Poor  2022-06-19   \n",
       "184            Zach Polon    Male   26        Average  2021-08-03   \n",
       "\n",
       "      Department       Salary Country  \n",
       "0        Website  $112,650.00     IND  \n",
       "1        Website   $43,840.00     IND  \n",
       "2    Procurement  $103,550.00     IND  \n",
       "3             HR   $45,510.00     IND  \n",
       "4        Finance  $115,440.00     IND  \n",
       "..           ...          ...     ...  \n",
       "180      Website   $75,280.00      NZ  \n",
       "181        Sales   $74,550.00      NZ  \n",
       "182  Procurement   $67,950.00      NZ  \n",
       "183      Finance   $70,270.00      NZ  \n",
       "184  Procurement   $53,540.00      NZ  \n",
       "\n",
       "[184 rows x 8 columns]"
      ]
     },
     "execution_count": 39,
     "metadata": {},
     "output_type": "execute_result"
    }
   ],
   "source": [
    "data"
   ]
  },
  {
   "cell_type": "code",
   "execution_count": 40,
   "id": "b1abb20d",
   "metadata": {},
   "outputs": [
    {
     "data": {
      "text/html": [
       "<div>\n",
       "<style scoped>\n",
       "    .dataframe tbody tr th:only-of-type {\n",
       "        vertical-align: middle;\n",
       "    }\n",
       "\n",
       "    .dataframe tbody tr th {\n",
       "        vertical-align: top;\n",
       "    }\n",
       "\n",
       "    .dataframe thead th {\n",
       "        text-align: right;\n",
       "    }\n",
       "</style>\n",
       "<table border=\"1\" class=\"dataframe\">\n",
       "  <thead>\n",
       "    <tr style=\"text-align: right;\">\n",
       "      <th></th>\n",
       "      <th>Name</th>\n",
       "      <th>Gender</th>\n",
       "      <th>Age</th>\n",
       "      <th>Rating</th>\n",
       "      <th>Date Joined</th>\n",
       "      <th>Department</th>\n",
       "      <th>Salary</th>\n",
       "      <th>Country</th>\n",
       "    </tr>\n",
       "  </thead>\n",
       "  <tbody>\n",
       "    <tr>\n",
       "      <th>0</th>\n",
       "      <td>Deepali Charan</td>\n",
       "      <td>Male</td>\n",
       "      <td>20</td>\n",
       "      <td>Average</td>\n",
       "      <td>2020-10-18</td>\n",
       "      <td>Website</td>\n",
       "      <td>$112,650.00</td>\n",
       "      <td>IND</td>\n",
       "    </tr>\n",
       "    <tr>\n",
       "      <th>1</th>\n",
       "      <td>Yagna Sujeev</td>\n",
       "      <td>Female</td>\n",
       "      <td>32</td>\n",
       "      <td>Above average</td>\n",
       "      <td>2021-04-07</td>\n",
       "      <td>Website</td>\n",
       "      <td>$43,840.00</td>\n",
       "      <td>IND</td>\n",
       "    </tr>\n",
       "    <tr>\n",
       "      <th>2</th>\n",
       "      <td>Satyendra Venkatadri</td>\n",
       "      <td>Male</td>\n",
       "      <td>31</td>\n",
       "      <td>Average</td>\n",
       "      <td>2022-04-12</td>\n",
       "      <td>Procurement</td>\n",
       "      <td>$103,550.00</td>\n",
       "      <td>IND</td>\n",
       "    </tr>\n",
       "    <tr>\n",
       "      <th>3</th>\n",
       "      <td>Madhavdas Buhpathi</td>\n",
       "      <td>Female</td>\n",
       "      <td>32</td>\n",
       "      <td>Average</td>\n",
       "      <td>2021-05-23</td>\n",
       "      <td>HR</td>\n",
       "      <td>$45,510.00</td>\n",
       "      <td>IND</td>\n",
       "    </tr>\n",
       "    <tr>\n",
       "      <th>4</th>\n",
       "      <td>Sahila Chandrasekhar</td>\n",
       "      <td>Other</td>\n",
       "      <td>37</td>\n",
       "      <td>Poor</td>\n",
       "      <td>2020-09-11</td>\n",
       "      <td>Finance</td>\n",
       "      <td>$115,440.00</td>\n",
       "      <td>IND</td>\n",
       "    </tr>\n",
       "    <tr>\n",
       "      <th>...</th>\n",
       "      <td>...</td>\n",
       "      <td>...</td>\n",
       "      <td>...</td>\n",
       "      <td>...</td>\n",
       "      <td>...</td>\n",
       "      <td>...</td>\n",
       "      <td>...</td>\n",
       "      <td>...</td>\n",
       "    </tr>\n",
       "    <tr>\n",
       "      <th>180</th>\n",
       "      <td>Elia Cockton</td>\n",
       "      <td>Female</td>\n",
       "      <td>33</td>\n",
       "      <td>Average</td>\n",
       "      <td>2021-04-26</td>\n",
       "      <td>Website</td>\n",
       "      <td>$75,280.00</td>\n",
       "      <td>NZ</td>\n",
       "    </tr>\n",
       "    <tr>\n",
       "      <th>181</th>\n",
       "      <td>Gigi Bohling</td>\n",
       "      <td>Male</td>\n",
       "      <td>33</td>\n",
       "      <td>Average</td>\n",
       "      <td>2021-07-08</td>\n",
       "      <td>Sales</td>\n",
       "      <td>$74,550.00</td>\n",
       "      <td>NZ</td>\n",
       "    </tr>\n",
       "    <tr>\n",
       "      <th>182</th>\n",
       "      <td>Ebonee Roxburgh</td>\n",
       "      <td>Male</td>\n",
       "      <td>30</td>\n",
       "      <td>Average</td>\n",
       "      <td>2022-05-20</td>\n",
       "      <td>Procurement</td>\n",
       "      <td>$67,950.00</td>\n",
       "      <td>NZ</td>\n",
       "    </tr>\n",
       "    <tr>\n",
       "      <th>183</th>\n",
       "      <td>Shayne Stegel</td>\n",
       "      <td>Male</td>\n",
       "      <td>42</td>\n",
       "      <td>Poor</td>\n",
       "      <td>2022-06-19</td>\n",
       "      <td>Finance</td>\n",
       "      <td>$70,270.00</td>\n",
       "      <td>NZ</td>\n",
       "    </tr>\n",
       "    <tr>\n",
       "      <th>184</th>\n",
       "      <td>Zach Polon</td>\n",
       "      <td>Male</td>\n",
       "      <td>26</td>\n",
       "      <td>Average</td>\n",
       "      <td>2021-08-03</td>\n",
       "      <td>Procurement</td>\n",
       "      <td>$53,540.00</td>\n",
       "      <td>NZ</td>\n",
       "    </tr>\n",
       "  </tbody>\n",
       "</table>\n",
       "<p>184 rows × 8 columns</p>\n",
       "</div>"
      ],
      "text/plain": [
       "                     Name  Gender  Age         Rating Date Joined  \\\n",
       "0          Deepali Charan    Male   20        Average  2020-10-18   \n",
       "1            Yagna Sujeev  Female   32  Above average  2021-04-07   \n",
       "2    Satyendra Venkatadri    Male   31        Average  2022-04-12   \n",
       "3      Madhavdas Buhpathi  Female   32        Average  2021-05-23   \n",
       "4    Sahila Chandrasekhar   Other   37           Poor  2020-09-11   \n",
       "..                    ...     ...  ...            ...         ...   \n",
       "180          Elia Cockton  Female   33        Average  2021-04-26   \n",
       "181          Gigi Bohling    Male   33        Average  2021-07-08   \n",
       "182       Ebonee Roxburgh    Male   30        Average  2022-05-20   \n",
       "183         Shayne Stegel    Male   42           Poor  2022-06-19   \n",
       "184            Zach Polon    Male   26        Average  2021-08-03   \n",
       "\n",
       "      Department       Salary Country  \n",
       "0        Website  $112,650.00     IND  \n",
       "1        Website   $43,840.00     IND  \n",
       "2    Procurement  $103,550.00     IND  \n",
       "3             HR   $45,510.00     IND  \n",
       "4        Finance  $115,440.00     IND  \n",
       "..           ...          ...     ...  \n",
       "180      Website   $75,280.00      NZ  \n",
       "181        Sales   $74,550.00      NZ  \n",
       "182  Procurement   $67,950.00      NZ  \n",
       "183      Finance   $70,270.00      NZ  \n",
       "184  Procurement   $53,540.00      NZ  \n",
       "\n",
       "[184 rows x 8 columns]"
      ]
     },
     "execution_count": 40,
     "metadata": {},
     "output_type": "execute_result"
    }
   ],
   "source": [
    "data"
   ]
  },
  {
   "cell_type": "markdown",
   "id": "a19dff6f",
   "metadata": {},
   "source": [
    "## Feature Engineering\n"
   ]
  },
  {
   "cell_type": "code",
   "execution_count": 41,
   "id": "813cd529",
   "metadata": {},
   "outputs": [],
   "source": [
    "from datetime import datetime\n",
    "\n",
    "data['Date Joined'] = pd.to_datetime(data['Date Joined'])\n",
    "current_date = pd.Timestamp(datetime.now())\n",
    "data['Tenure'] = (current_date - data['Date Joined']).astype('timedelta64[D]')"
   ]
  },
  {
   "cell_type": "code",
   "execution_count": 42,
   "id": "bd6781be",
   "metadata": {},
   "outputs": [],
   "source": [
    "data['Tenure']=data['Tenure']/365"
   ]
  },
  {
   "cell_type": "code",
   "execution_count": 43,
   "id": "68c657dd",
   "metadata": {},
   "outputs": [
    {
     "name": "stdout",
     "output_type": "stream",
     "text": [
      "<class 'pandas.core.frame.DataFrame'>\n",
      "Int64Index: 184 entries, 0 to 184\n",
      "Data columns (total 9 columns):\n",
      " #   Column       Non-Null Count  Dtype         \n",
      "---  ------       --------------  -----         \n",
      " 0   Name         184 non-null    object        \n",
      " 1   Gender       184 non-null    object        \n",
      " 2   Age          184 non-null    int32         \n",
      " 3   Rating       184 non-null    object        \n",
      " 4   Date Joined  184 non-null    datetime64[ns]\n",
      " 5   Department   184 non-null    object        \n",
      " 6   Salary       184 non-null    object        \n",
      " 7   Country      184 non-null    object        \n",
      " 8   Tenure       184 non-null    float64       \n",
      "dtypes: datetime64[ns](1), float64(1), int32(1), object(6)\n",
      "memory usage: 13.7+ KB\n"
     ]
    }
   ],
   "source": [
    "data.info()"
   ]
  },
  {
   "cell_type": "markdown",
   "id": "61b84b13",
   "metadata": {},
   "source": [
    "### Summery Description"
   ]
  },
  {
   "cell_type": "code",
   "execution_count": 44,
   "id": "aae80114",
   "metadata": {},
   "outputs": [],
   "source": [
    "Age_m=data['Age'].mean()"
   ]
  },
  {
   "cell_type": "code",
   "execution_count": 45,
   "id": "00e6eda9",
   "metadata": {},
   "outputs": [],
   "source": [
    "salary_mean =  f\"${salary_mean:,.2f}\""
   ]
  },
  {
   "cell_type": "code",
   "execution_count": 46,
   "id": "8eeed2f5",
   "metadata": {},
   "outputs": [
    {
     "data": {
      "text/plain": [
       "'$77,366.52'"
      ]
     },
     "execution_count": 46,
     "metadata": {},
     "output_type": "execute_result"
    }
   ],
   "source": [
    "salary_mean"
   ]
  },
  {
   "cell_type": "code",
   "execution_count": 47,
   "id": "f24c8529",
   "metadata": {},
   "outputs": [],
   "source": [
    "tenure_m=data['Tenure'].mean()"
   ]
  },
  {
   "cell_type": "code",
   "execution_count": 48,
   "id": "b99cbe3a",
   "metadata": {},
   "outputs": [],
   "source": [
    "Gender=data['Gender'].value_counts()"
   ]
  },
  {
   "cell_type": "code",
   "execution_count": 49,
   "id": "06541e85",
   "metadata": {},
   "outputs": [],
   "source": [
    "#Counting the Male staff\n",
    "male_count=Gender.get(\"Male\",0)"
   ]
  },
  {
   "cell_type": "code",
   "execution_count": 50,
   "id": "ad390b30",
   "metadata": {},
   "outputs": [],
   "source": [
    "#Counting the Female staff\n",
    "female_count=Gender.get(\"Female\",0)"
   ]
  },
  {
   "cell_type": "code",
   "execution_count": 51,
   "id": "702bd767",
   "metadata": {},
   "outputs": [],
   "source": [
    "#Finding Male ratio\n",
    "Male_Ratio=(male_count*100)/184"
   ]
  },
  {
   "cell_type": "code",
   "execution_count": 52,
   "id": "6de6c7fa",
   "metadata": {},
   "outputs": [],
   "source": [
    "#Finding Female ratio\n",
    "Female_Ratio=(female_count*100)/184"
   ]
  },
  {
   "cell_type": "code",
   "execution_count": 53,
   "id": "457b1078",
   "metadata": {},
   "outputs": [],
   "source": [
    "#It will directly find the Gender ratio.\n",
    "Gender_per = data['Gender'].value_counts(normalize=True) * 100"
   ]
  },
  {
   "cell_type": "code",
   "execution_count": 54,
   "id": "e9897505",
   "metadata": {},
   "outputs": [
    {
     "data": {
      "text/plain": [
       "Male      48.913043\n",
       "Female    46.739130\n",
       "Other      4.347826\n",
       "Name: Gender, dtype: float64"
      ]
     },
     "execution_count": 54,
     "metadata": {},
     "output_type": "execute_result"
    }
   ],
   "source": [
    "Gender_per"
   ]
  },
  {
   "cell_type": "code",
   "execution_count": 55,
   "id": "05ddc9c0",
   "metadata": {},
   "outputs": [],
   "source": [
    "df={\n",
    "'Average Age': [Age_m],\n",
    "'Average Salary': [salary_mean],\n",
    "'F_Ratio':[Female_Ratio],\n",
    " 'M_Ratio':[Male_Ratio],\n",
    "  'Average_Tenure':[tenure_m]  \n",
    "}"
   ]
  },
  {
   "cell_type": "code",
   "execution_count": 56,
   "id": "72594c44",
   "metadata": {},
   "outputs": [],
   "source": [
    "summery=pd.DataFrame(df)"
   ]
  },
  {
   "cell_type": "code",
   "execution_count": 57,
   "id": "af30ea6f",
   "metadata": {},
   "outputs": [
    {
     "data": {
      "text/html": [
       "<div>\n",
       "<style scoped>\n",
       "    .dataframe tbody tr th:only-of-type {\n",
       "        vertical-align: middle;\n",
       "    }\n",
       "\n",
       "    .dataframe tbody tr th {\n",
       "        vertical-align: top;\n",
       "    }\n",
       "\n",
       "    .dataframe thead th {\n",
       "        text-align: right;\n",
       "    }\n",
       "</style>\n",
       "<table border=\"1\" class=\"dataframe\">\n",
       "  <thead>\n",
       "    <tr style=\"text-align: right;\">\n",
       "      <th></th>\n",
       "      <th>Average Age</th>\n",
       "      <th>Average Salary</th>\n",
       "      <th>F_Ratio</th>\n",
       "      <th>M_Ratio</th>\n",
       "      <th>Average_Tenure</th>\n",
       "    </tr>\n",
       "  </thead>\n",
       "  <tbody>\n",
       "    <tr>\n",
       "      <th>0</th>\n",
       "      <td>30.445652</td>\n",
       "      <td>$77,366.52</td>\n",
       "      <td>46.73913</td>\n",
       "      <td>48.913043</td>\n",
       "      <td>2.478082</td>\n",
       "    </tr>\n",
       "  </tbody>\n",
       "</table>\n",
       "</div>"
      ],
      "text/plain": [
       "   Average Age Average Salary   F_Ratio    M_Ratio  Average_Tenure\n",
       "0    30.445652     $77,366.52  46.73913  48.913043        2.478082"
      ]
     },
     "execution_count": 57,
     "metadata": {},
     "output_type": "execute_result"
    }
   ],
   "source": [
    "summery"
   ]
  },
  {
   "cell_type": "markdown",
   "id": "b8436d66",
   "metadata": {},
   "source": [
    "### Exploratory Data Analysis"
   ]
  },
  {
   "cell_type": "code",
   "execution_count": 58,
   "id": "fd2c91e3",
   "metadata": {},
   "outputs": [
    {
     "data": {
      "image/png": "[encoded data removed]",
      "text/plain": [
       "<Figure size 1000x900 with 1 Axes>"
      ]
     },
     "metadata": {},
     "output_type": "display_data"
    }
   ],
   "source": [
    "plt.figure(figsize=[10,9])\n",
    "sns.barplot(x=data['Salary'],y=data['Tenure'])\n",
    "plt.xlabel('Salary')\n",
    "plt.ylabel('Tenure')\n",
    "plt.show()"
   ]
  },
  {
   "cell_type": "code",
   "execution_count": 59,
   "id": "b38303b6",
   "metadata": {},
   "outputs": [],
   "source": [
    "average_tenure_by_country = data.groupby('Country')['Tenure'].mean().reset_index()"
   ]
  },
  {
   "cell_type": "code",
   "execution_count": 60,
   "id": "a56cf914",
   "metadata": {},
   "outputs": [
    {
     "data": {
      "image/png": "[encoded data removed]",
      "text/plain": [
       "<Figure size 800x600 with 1 Axes>"
      ]
     },
     "metadata": {},
     "output_type": "display_data"
    }
   ],
   "source": [
    "plt.figure(figsize=(8, 6))\n",
    "plt.title('Average Tenure by Country')\n",
    "sns.barplot(average_tenure_by_country['Country'], average_tenure_by_country['Tenure'], palette=[\"Red\",\"Grey\"])\n",
    "plt.xlabel('Country')\n",
    "plt.ylabel('Average Tenure (Years)')\n",
    "plt.show()"
   ]
  },
  {
   "cell_type": "code",
   "execution_count": 61,
   "id": "ee91a6da",
   "metadata": {},
   "outputs": [],
   "source": [
    "data['Salary'] = data['Salary'].str.replace('[$,]', '', regex=True).astype(float)\n"
   ]
  },
  {
   "cell_type": "code",
   "execution_count": 62,
   "id": "cf59f2fa",
   "metadata": {},
   "outputs": [],
   "source": [
    "Average_salary_by_country=data.groupby('Country')['Salary'].mean().reset_index()"
   ]
  },
  {
   "cell_type": "code",
   "execution_count": 63,
   "id": "d16c7fb1",
   "metadata": {},
   "outputs": [
    {
     "data": {
      "text/html": [
       "<div>\n",
       "<style scoped>\n",
       "    .dataframe tbody tr th:only-of-type {\n",
       "        vertical-align: middle;\n",
       "    }\n",
       "\n",
       "    .dataframe tbody tr th {\n",
       "        vertical-align: top;\n",
       "    }\n",
       "\n",
       "    .dataframe thead th {\n",
       "        text-align: right;\n",
       "    }\n",
       "</style>\n",
       "<table border=\"1\" class=\"dataframe\">\n",
       "  <thead>\n",
       "    <tr style=\"text-align: right;\">\n",
       "      <th></th>\n",
       "      <th>Country</th>\n",
       "      <th>Salary</th>\n",
       "    </tr>\n",
       "  </thead>\n",
       "  <tbody>\n",
       "    <tr>\n",
       "      <th>0</th>\n",
       "      <td>IND</td>\n",
       "      <td>77366.521739</td>\n",
       "    </tr>\n",
       "    <tr>\n",
       "      <th>1</th>\n",
       "      <td>NZ</td>\n",
       "      <td>77366.521739</td>\n",
       "    </tr>\n",
       "  </tbody>\n",
       "</table>\n",
       "</div>"
      ],
      "text/plain": [
       "  Country        Salary\n",
       "0     IND  77366.521739\n",
       "1      NZ  77366.521739"
      ]
     },
     "execution_count": 63,
     "metadata": {},
     "output_type": "execute_result"
    }
   ],
   "source": [
    "Average_salary_by_country"
   ]
  },
  {
   "cell_type": "code",
   "execution_count": 64,
   "id": "5b732e65",
   "metadata": {},
   "outputs": [
    {
     "data": {
      "image/png": "[encoded data removed]",
      "text/plain": [
       "<Figure size 800x600 with 1 Axes>"
      ]
     },
     "metadata": {},
     "output_type": "display_data"
    }
   ],
   "source": [
    "plt.figure(figsize=[8,6])\n",
    "sns.barplot(Average_salary_by_country['Country'],Average_salary_by_country['Salary'],palette=['Orange','cyan'])\n",
    "plt.show()"
   ]
  },
  {
   "cell_type": "markdown",
   "id": "f62b40c3",
   "metadata": {},
   "source": [
    "### The Trend shows that, the average salaries in India and New Zealand are the same."
   ]
  },
  {
   "cell_type": "code",
   "execution_count": 65,
   "id": "b310c738",
   "metadata": {},
   "outputs": [
    {
     "data": {
      "image/png": "[encoded data removed]",
      "text/plain": [
       "<Figure size 800x600 with 1 Axes>"
      ]
     },
     "metadata": {},
     "output_type": "display_data"
    }
   ],
   "source": [
    "average_tenure_by_country = data.groupby('Age')['Tenure'].mean().reset_index()\n",
    "plt.figure(figsize=(8, 6))\n",
    "plt.title('Average Tenure by Age')\n",
    "sns.barplot(average_tenure_by_country['Age'], average_tenure_by_country['Tenure'], palette=[\"Red\",\"Grey\"])\n",
    "plt.xlabel('Age')\n",
    "plt.ylabel('Average Tenure (Years)')\n",
    "plt.show()"
   ]
  },
  {
   "cell_type": "markdown",
   "id": "33fecbfa",
   "metadata": {},
   "source": [
    "#### The analysis of the chart shows that younger employees tend to have longer tenures than older employees."
   ]
  },
  {
   "cell_type": "code",
   "execution_count": 66,
   "id": "e380390c",
   "metadata": {},
   "outputs": [
    {
     "data": {
      "text/html": [
       "<div>\n",
       "<style scoped>\n",
       "    .dataframe tbody tr th:only-of-type {\n",
       "        vertical-align: middle;\n",
       "    }\n",
       "\n",
       "    .dataframe tbody tr th {\n",
       "        vertical-align: top;\n",
       "    }\n",
       "\n",
       "    .dataframe thead th {\n",
       "        text-align: right;\n",
       "    }\n",
       "</style>\n",
       "<table border=\"1\" class=\"dataframe\">\n",
       "  <thead>\n",
       "    <tr style=\"text-align: right;\">\n",
       "      <th></th>\n",
       "      <th>Name</th>\n",
       "      <th>Gender</th>\n",
       "      <th>Age</th>\n",
       "      <th>Rating</th>\n",
       "      <th>Date Joined</th>\n",
       "      <th>Department</th>\n",
       "      <th>Salary</th>\n",
       "      <th>Country</th>\n",
       "      <th>Tenure</th>\n",
       "    </tr>\n",
       "  </thead>\n",
       "  <tbody>\n",
       "    <tr>\n",
       "      <th>0</th>\n",
       "      <td>Deepali Charan</td>\n",
       "      <td>Male</td>\n",
       "      <td>20</td>\n",
       "      <td>Average</td>\n",
       "      <td>2020-10-18</td>\n",
       "      <td>Website</td>\n",
       "      <td>112650.0</td>\n",
       "      <td>IND</td>\n",
       "      <td>3.334247</td>\n",
       "    </tr>\n",
       "    <tr>\n",
       "      <th>1</th>\n",
       "      <td>Yagna Sujeev</td>\n",
       "      <td>Female</td>\n",
       "      <td>32</td>\n",
       "      <td>Above average</td>\n",
       "      <td>2021-04-07</td>\n",
       "      <td>Website</td>\n",
       "      <td>43840.0</td>\n",
       "      <td>IND</td>\n",
       "      <td>2.865753</td>\n",
       "    </tr>\n",
       "    <tr>\n",
       "      <th>2</th>\n",
       "      <td>Satyendra Venkatadri</td>\n",
       "      <td>Male</td>\n",
       "      <td>31</td>\n",
       "      <td>Average</td>\n",
       "      <td>2022-04-12</td>\n",
       "      <td>Procurement</td>\n",
       "      <td>103550.0</td>\n",
       "      <td>IND</td>\n",
       "      <td>1.852055</td>\n",
       "    </tr>\n",
       "    <tr>\n",
       "      <th>3</th>\n",
       "      <td>Madhavdas Buhpathi</td>\n",
       "      <td>Female</td>\n",
       "      <td>32</td>\n",
       "      <td>Average</td>\n",
       "      <td>2021-05-23</td>\n",
       "      <td>HR</td>\n",
       "      <td>45510.0</td>\n",
       "      <td>IND</td>\n",
       "      <td>2.739726</td>\n",
       "    </tr>\n",
       "    <tr>\n",
       "      <th>4</th>\n",
       "      <td>Sahila Chandrasekhar</td>\n",
       "      <td>Other</td>\n",
       "      <td>37</td>\n",
       "      <td>Poor</td>\n",
       "      <td>2020-09-11</td>\n",
       "      <td>Finance</td>\n",
       "      <td>115440.0</td>\n",
       "      <td>IND</td>\n",
       "      <td>3.435616</td>\n",
       "    </tr>\n",
       "    <tr>\n",
       "      <th>...</th>\n",
       "      <td>...</td>\n",
       "      <td>...</td>\n",
       "      <td>...</td>\n",
       "      <td>...</td>\n",
       "      <td>...</td>\n",
       "      <td>...</td>\n",
       "      <td>...</td>\n",
       "      <td>...</td>\n",
       "      <td>...</td>\n",
       "    </tr>\n",
       "    <tr>\n",
       "      <th>180</th>\n",
       "      <td>Elia Cockton</td>\n",
       "      <td>Female</td>\n",
       "      <td>33</td>\n",
       "      <td>Average</td>\n",
       "      <td>2021-04-26</td>\n",
       "      <td>Website</td>\n",
       "      <td>75280.0</td>\n",
       "      <td>NZ</td>\n",
       "      <td>2.813699</td>\n",
       "    </tr>\n",
       "    <tr>\n",
       "      <th>181</th>\n",
       "      <td>Gigi Bohling</td>\n",
       "      <td>Male</td>\n",
       "      <td>33</td>\n",
       "      <td>Average</td>\n",
       "      <td>2021-07-08</td>\n",
       "      <td>Sales</td>\n",
       "      <td>74550.0</td>\n",
       "      <td>NZ</td>\n",
       "      <td>2.613699</td>\n",
       "    </tr>\n",
       "    <tr>\n",
       "      <th>182</th>\n",
       "      <td>Ebonee Roxburgh</td>\n",
       "      <td>Male</td>\n",
       "      <td>30</td>\n",
       "      <td>Average</td>\n",
       "      <td>2022-05-20</td>\n",
       "      <td>Procurement</td>\n",
       "      <td>67950.0</td>\n",
       "      <td>NZ</td>\n",
       "      <td>1.747945</td>\n",
       "    </tr>\n",
       "    <tr>\n",
       "      <th>183</th>\n",
       "      <td>Shayne Stegel</td>\n",
       "      <td>Male</td>\n",
       "      <td>42</td>\n",
       "      <td>Poor</td>\n",
       "      <td>2022-06-19</td>\n",
       "      <td>Finance</td>\n",
       "      <td>70270.0</td>\n",
       "      <td>NZ</td>\n",
       "      <td>1.665753</td>\n",
       "    </tr>\n",
       "    <tr>\n",
       "      <th>184</th>\n",
       "      <td>Zach Polon</td>\n",
       "      <td>Male</td>\n",
       "      <td>26</td>\n",
       "      <td>Average</td>\n",
       "      <td>2021-08-03</td>\n",
       "      <td>Procurement</td>\n",
       "      <td>53540.0</td>\n",
       "      <td>NZ</td>\n",
       "      <td>2.542466</td>\n",
       "    </tr>\n",
       "  </tbody>\n",
       "</table>\n",
       "<p>184 rows × 9 columns</p>\n",
       "</div>"
      ],
      "text/plain": [
       "                     Name  Gender  Age         Rating Date Joined  \\\n",
       "0          Deepali Charan    Male   20        Average  2020-10-18   \n",
       "1            Yagna Sujeev  Female   32  Above average  2021-04-07   \n",
       "2    Satyendra Venkatadri    Male   31        Average  2022-04-12   \n",
       "3      Madhavdas Buhpathi  Female   32        Average  2021-05-23   \n",
       "4    Sahila Chandrasekhar   Other   37           Poor  2020-09-11   \n",
       "..                    ...     ...  ...            ...         ...   \n",
       "180          Elia Cockton  Female   33        Average  2021-04-26   \n",
       "181          Gigi Bohling    Male   33        Average  2021-07-08   \n",
       "182       Ebonee Roxburgh    Male   30        Average  2022-05-20   \n",
       "183         Shayne Stegel    Male   42           Poor  2022-06-19   \n",
       "184            Zach Polon    Male   26        Average  2021-08-03   \n",
       "\n",
       "      Department    Salary Country    Tenure  \n",
       "0        Website  112650.0     IND  3.334247  \n",
       "1        Website   43840.0     IND  2.865753  \n",
       "2    Procurement  103550.0     IND  1.852055  \n",
       "3             HR   45510.0     IND  2.739726  \n",
       "4        Finance  115440.0     IND  3.435616  \n",
       "..           ...       ...     ...       ...  \n",
       "180      Website   75280.0      NZ  2.813699  \n",
       "181        Sales   74550.0      NZ  2.613699  \n",
       "182  Procurement   67950.0      NZ  1.747945  \n",
       "183      Finance   70270.0      NZ  1.665753  \n",
       "184  Procurement   53540.0      NZ  2.542466  \n",
       "\n",
       "[184 rows x 9 columns]"
      ]
     },
     "execution_count": 66,
     "metadata": {},
     "output_type": "execute_result"
    }
   ],
   "source": [
    "data"
   ]
  },
  {
   "cell_type": "code",
   "execution_count": 67,
   "id": "3bc9c1a3",
   "metadata": {},
   "outputs": [
    {
     "data": {
      "image/png": "[encoded data removed]",
      "text/plain": [
       "<Figure size 1000x600 with 1 Axes>"
      ]
     },
     "metadata": {},
     "output_type": "display_data"
    }
   ],
   "source": [
    "plt.figure(figsize=(10, 6))\n",
    "sns.violinplot(x='Rating', y='Tenure', data=data)\n",
    "plt.title('Tenure by Rating')\n",
    "plt.xlabel('Rating')\n",
    "plt.ylabel('Tenure')\n",
    "plt.show()"
   ]
  },
  {
   "cell_type": "code",
   "execution_count": 68,
   "id": "5c58cfce",
   "metadata": {},
   "outputs": [
    {
     "data": {
      "image/png": "[encoded data removed]",
      "text/plain": [
       "<Figure size 1000x600 with 1 Axes>"
      ]
     },
     "metadata": {},
     "output_type": "display_data"
    }
   ],
   "source": [
    "plt.figure(figsize=(10, 6))\n",
    "sns.boxplot(x='Rating', y='Tenure', data=data)\n",
    "plt.title('Tenure by Rating')\n",
    "plt.xlabel('Rating')\n",
    "plt.ylabel('Tenure')\n",
    "plt.show()"
   ]
  },
  {
   "cell_type": "code",
   "execution_count": 69,
   "id": "4a6c8b7a",
   "metadata": {},
   "outputs": [
    {
     "data": {
      "text/html": [
       "<div>\n",
       "<style scoped>\n",
       "    .dataframe tbody tr th:only-of-type {\n",
       "        vertical-align: middle;\n",
       "    }\n",
       "\n",
       "    .dataframe tbody tr th {\n",
       "        vertical-align: top;\n",
       "    }\n",
       "\n",
       "    .dataframe thead th {\n",
       "        text-align: right;\n",
       "    }\n",
       "</style>\n",
       "<table border=\"1\" class=\"dataframe\">\n",
       "  <thead>\n",
       "    <tr style=\"text-align: right;\">\n",
       "      <th></th>\n",
       "      <th>Name</th>\n",
       "      <th>Gender</th>\n",
       "      <th>Age</th>\n",
       "      <th>Rating</th>\n",
       "      <th>Date Joined</th>\n",
       "      <th>Department</th>\n",
       "      <th>Salary</th>\n",
       "      <th>Country</th>\n",
       "      <th>Tenure</th>\n",
       "    </tr>\n",
       "  </thead>\n",
       "  <tbody>\n",
       "    <tr>\n",
       "      <th>0</th>\n",
       "      <td>Deepali Charan</td>\n",
       "      <td>Male</td>\n",
       "      <td>20</td>\n",
       "      <td>Average</td>\n",
       "      <td>2020-10-18</td>\n",
       "      <td>Website</td>\n",
       "      <td>112650.0</td>\n",
       "      <td>IND</td>\n",
       "      <td>3.334247</td>\n",
       "    </tr>\n",
       "    <tr>\n",
       "      <th>1</th>\n",
       "      <td>Yagna Sujeev</td>\n",
       "      <td>Female</td>\n",
       "      <td>32</td>\n",
       "      <td>Above average</td>\n",
       "      <td>2021-04-07</td>\n",
       "      <td>Website</td>\n",
       "      <td>43840.0</td>\n",
       "      <td>IND</td>\n",
       "      <td>2.865753</td>\n",
       "    </tr>\n",
       "    <tr>\n",
       "      <th>2</th>\n",
       "      <td>Satyendra Venkatadri</td>\n",
       "      <td>Male</td>\n",
       "      <td>31</td>\n",
       "      <td>Average</td>\n",
       "      <td>2022-04-12</td>\n",
       "      <td>Procurement</td>\n",
       "      <td>103550.0</td>\n",
       "      <td>IND</td>\n",
       "      <td>1.852055</td>\n",
       "    </tr>\n",
       "    <tr>\n",
       "      <th>3</th>\n",
       "      <td>Madhavdas Buhpathi</td>\n",
       "      <td>Female</td>\n",
       "      <td>32</td>\n",
       "      <td>Average</td>\n",
       "      <td>2021-05-23</td>\n",
       "      <td>HR</td>\n",
       "      <td>45510.0</td>\n",
       "      <td>IND</td>\n",
       "      <td>2.739726</td>\n",
       "    </tr>\n",
       "    <tr>\n",
       "      <th>4</th>\n",
       "      <td>Sahila Chandrasekhar</td>\n",
       "      <td>Other</td>\n",
       "      <td>37</td>\n",
       "      <td>Poor</td>\n",
       "      <td>2020-09-11</td>\n",
       "      <td>Finance</td>\n",
       "      <td>115440.0</td>\n",
       "      <td>IND</td>\n",
       "      <td>3.435616</td>\n",
       "    </tr>\n",
       "    <tr>\n",
       "      <th>...</th>\n",
       "      <td>...</td>\n",
       "      <td>...</td>\n",
       "      <td>...</td>\n",
       "      <td>...</td>\n",
       "      <td>...</td>\n",
       "      <td>...</td>\n",
       "      <td>...</td>\n",
       "      <td>...</td>\n",
       "      <td>...</td>\n",
       "    </tr>\n",
       "    <tr>\n",
       "      <th>180</th>\n",
       "      <td>Elia Cockton</td>\n",
       "      <td>Female</td>\n",
       "      <td>33</td>\n",
       "      <td>Average</td>\n",
       "      <td>2021-04-26</td>\n",
       "      <td>Website</td>\n",
       "      <td>75280.0</td>\n",
       "      <td>NZ</td>\n",
       "      <td>2.813699</td>\n",
       "    </tr>\n",
       "    <tr>\n",
       "      <th>181</th>\n",
       "      <td>Gigi Bohling</td>\n",
       "      <td>Male</td>\n",
       "      <td>33</td>\n",
       "      <td>Average</td>\n",
       "      <td>2021-07-08</td>\n",
       "      <td>Sales</td>\n",
       "      <td>74550.0</td>\n",
       "      <td>NZ</td>\n",
       "      <td>2.613699</td>\n",
       "    </tr>\n",
       "    <tr>\n",
       "      <th>182</th>\n",
       "      <td>Ebonee Roxburgh</td>\n",
       "      <td>Male</td>\n",
       "      <td>30</td>\n",
       "      <td>Average</td>\n",
       "      <td>2022-05-20</td>\n",
       "      <td>Procurement</td>\n",
       "      <td>67950.0</td>\n",
       "      <td>NZ</td>\n",
       "      <td>1.747945</td>\n",
       "    </tr>\n",
       "    <tr>\n",
       "      <th>183</th>\n",
       "      <td>Shayne Stegel</td>\n",
       "      <td>Male</td>\n",
       "      <td>42</td>\n",
       "      <td>Poor</td>\n",
       "      <td>2022-06-19</td>\n",
       "      <td>Finance</td>\n",
       "      <td>70270.0</td>\n",
       "      <td>NZ</td>\n",
       "      <td>1.665753</td>\n",
       "    </tr>\n",
       "    <tr>\n",
       "      <th>184</th>\n",
       "      <td>Zach Polon</td>\n",
       "      <td>Male</td>\n",
       "      <td>26</td>\n",
       "      <td>Average</td>\n",
       "      <td>2021-08-03</td>\n",
       "      <td>Procurement</td>\n",
       "      <td>53540.0</td>\n",
       "      <td>NZ</td>\n",
       "      <td>2.542466</td>\n",
       "    </tr>\n",
       "  </tbody>\n",
       "</table>\n",
       "<p>184 rows × 9 columns</p>\n",
       "</div>"
      ],
      "text/plain": [
       "                     Name  Gender  Age         Rating Date Joined  \\\n",
       "0          Deepali Charan    Male   20        Average  2020-10-18   \n",
       "1            Yagna Sujeev  Female   32  Above average  2021-04-07   \n",
       "2    Satyendra Venkatadri    Male   31        Average  2022-04-12   \n",
       "3      Madhavdas Buhpathi  Female   32        Average  2021-05-23   \n",
       "4    Sahila Chandrasekhar   Other   37           Poor  2020-09-11   \n",
       "..                    ...     ...  ...            ...         ...   \n",
       "180          Elia Cockton  Female   33        Average  2021-04-26   \n",
       "181          Gigi Bohling    Male   33        Average  2021-07-08   \n",
       "182       Ebonee Roxburgh    Male   30        Average  2022-05-20   \n",
       "183         Shayne Stegel    Male   42           Poor  2022-06-19   \n",
       "184            Zach Polon    Male   26        Average  2021-08-03   \n",
       "\n",
       "      Department    Salary Country    Tenure  \n",
       "0        Website  112650.0     IND  3.334247  \n",
       "1        Website   43840.0     IND  2.865753  \n",
       "2    Procurement  103550.0     IND  1.852055  \n",
       "3             HR   45510.0     IND  2.739726  \n",
       "4        Finance  115440.0     IND  3.435616  \n",
       "..           ...       ...     ...       ...  \n",
       "180      Website   75280.0      NZ  2.813699  \n",
       "181        Sales   74550.0      NZ  2.613699  \n",
       "182  Procurement   67950.0      NZ  1.747945  \n",
       "183      Finance   70270.0      NZ  1.665753  \n",
       "184  Procurement   53540.0      NZ  2.542466  \n",
       "\n",
       "[184 rows x 9 columns]"
      ]
     },
     "execution_count": 69,
     "metadata": {},
     "output_type": "execute_result"
    }
   ],
   "source": [
    "data"
   ]
  },
  {
   "cell_type": "code",
   "execution_count": null,
   "id": "1b3a6aae",
   "metadata": {},
   "outputs": [],
   "source": []
  },
  {
   "cell_type": "code",
   "execution_count": 70,
   "id": "5178b69a",
   "metadata": {},
   "outputs": [
    {
     "data": {
      "image/png": "[encoded data removed]",
      "text/plain": [
       "<Figure size 800x600 with 1 Axes>"
      ]
     },
     "metadata": {},
     "output_type": "display_data"
    }
   ],
   "source": [
    "plt.figure(figsize=(8, 6))\n",
    "plt.scatter(data['Date Joined'], data['Salary'])\n",
    "plt.title('Salary Distribution by Date Joined')\n",
    "plt.xlabel('Date Joined')\n",
    "plt.ylabel('Salary')\n",
    "plt.xticks(rotation=45)\n",
    "plt.tight_layout()\n",
    "plt.show()\n"
   ]
  },
  {
   "cell_type": "markdown",
   "id": "6e8b7494",
   "metadata": {},
   "source": [
    "### Based on the analysis, it appears that tenure does not significantly affect salaries as much as skills and job type do, which are more closely correlated with salary variations."
   ]
  },
  {
   "cell_type": "code",
   "execution_count": 71,
   "id": "4de0c01f",
   "metadata": {},
   "outputs": [
    {
     "data": {
      "image/png": "[encoded data removed]",
      "text/plain": [
       "<Figure size 1000x600 with 1 Axes>"
      ]
     },
     "metadata": {},
     "output_type": "display_data"
    }
   ],
   "source": [
    "plt.figure(figsize=(10, 6))\n",
    "sns.boxplot(x='Department', y='Salary', data=data)\n",
    "plt.title('Salaries by Department')\n",
    "plt.xlabel('Department')\n",
    "plt.ylabel('Salaries')\n",
    "plt.show()"
   ]
  },
  {
   "cell_type": "code",
   "execution_count": 72,
   "id": "de372316",
   "metadata": {},
   "outputs": [
    {
     "data": {
      "image/png": "[encoded data removed]",
      "text/plain": [
       "<Figure size 1000x600 with 1 Axes>"
      ]
     },
     "metadata": {},
     "output_type": "display_data"
    }
   ],
   "source": [
    "plt.figure(figsize=(10, 6))\n",
    "sns.boxplot(x='Gender', y='Salary', data=data)\n",
    "plt.title('Salaries by Gender')\n",
    "plt.xlabel('Gender')\n",
    "plt.ylabel('Salaries')\n",
    "plt.show()"
   ]
  }
 ],
 "metadata": {
  "kernelspec": {
   "display_name": "Python 3 (ipykernel)",
   "language": "python",
   "name": "python3"
  },
  "language_info": {
   "codemirror_mode": {
    "name": "ipython",
    "version": 3
   },
   "file_extension": ".py",
   "mimetype": "text/x-python",
   "name": "python",
   "nbconvert_exporter": "python",
   "pygments_lexer": "ipython3",
   "version": "3.9.13"
  }
 },
 "nbformat": 4,
 "nbformat_minor": 5
}

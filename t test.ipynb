{
 "cells": [
  {
   "cell_type": "markdown",
   "id": "ffc4c454",
   "metadata": {},
   "source": [
    "# One Sample t-test\n",
    "For filling each bottle with 170 tablets of a particular medicine, an automatic machine was installed. From the production, a sample of 9 bottles was taken, the number of tablets found in these 9 bottles are as follows. Test whether the machine has been installed properly or not.\n",
    "\n",
    "𝑯_𝟎: The machine has been installed properly i.e. 𝝁=𝟏𝟕𝟎\n",
    "\n",
    "𝑯_𝟏: The machine has not been installed properly i.e. 𝝁≠𝟏𝟕𝟎\n"
   ]
  },
  {
   "cell_type": "code",
   "execution_count": 1,
   "id": "24311218",
   "metadata": {},
   "outputs": [],
   "source": [
    "import numpy as np\n",
    "from scipy import stats"
   ]
  },
  {
   "cell_type": "code",
   "execution_count": 2,
   "id": "089acaa8",
   "metadata": {},
   "outputs": [],
   "source": [
    "# Data\n",
    "x = np.array([168, 164, 166, 167, 168, 169, 170, 170, 171])\n",
    "mean=170"
   ]
  },
  {
   "cell_type": "code",
   "execution_count": 3,
   "id": "16c7b909",
   "metadata": {},
   "outputs": [],
   "source": [
    "# Perform one-sample t-test\n",
    "t_stat, p_value = stats.ttest_1samp(x, mean)"
   ]
  },
  {
   "cell_type": "code",
   "execution_count": 4,
   "id": "cc3f2772",
   "metadata": {},
   "outputs": [
    {
     "name": "stdout",
     "output_type": "stream",
     "text": [
      "t-statistic: 2.570158416462741\n",
      "p-value: 0.033119402028925805\n"
     ]
    }
   ],
   "source": [
    "# Display the results\n",
    "print(f\"t-statistic: {abs(t_stat)}\")\n",
    "print(f\"p-value: {p_value}\")"
   ]
  },
  {
   "cell_type": "code",
   "execution_count": 5,
   "id": "68a8f0be",
   "metadata": {},
   "outputs": [
    {
     "name": "stdout",
     "output_type": "stream",
     "text": [
      "Reject the null hypothesis (H0)\n"
     ]
    }
   ],
   "source": [
    "# Check for significance\n",
    "alpha = 0.05\n",
    "if p_value < alpha:\n",
    "    print(\"Reject the null hypothesis (H0)\")\n",
    "else:\n",
    "    print(\"Fail to reject the null hypothesis (H0)\")"
   ]
  },
  {
   "cell_type": "markdown",
   "id": "082f8292",
   "metadata": {},
   "source": [
    "# Two Sample t-test\n",
    "\n",
    "The proportion of nicotine in mgs of two Tabacco samples are shown below:\n",
    "\n",
    "sample A={24,27,26,21,25}, \n",
    "\n",
    "sample B={27,30,28,31,32,36}\n",
    "\n",
    "𝑯_𝟎: 𝝁_𝟏=𝝁_𝟐\n",
    "\n",
    "𝑯_𝟏: 𝝁_𝟏≠𝝁_𝟐"
   ]
  },
  {
   "cell_type": "code",
   "execution_count": 6,
   "id": "ed41e54f",
   "metadata": {},
   "outputs": [],
   "source": [
    "# Data\n",
    "sample_A = np.array([24, 27, 26, 21, 25])\n",
    "sample_B = np.array([27, 30, 28, 31, 32, 36])"
   ]
  },
  {
   "cell_type": "code",
   "execution_count": 7,
   "id": "271224d0",
   "metadata": {},
   "outputs": [],
   "source": [
    "# Perform two-sample t-test\n",
    "t_stat, p_value = stats.ttest_ind(sample_A, sample_B, equal_var=False)"
   ]
  },
  {
   "cell_type": "code",
   "execution_count": 8,
   "id": "e391d21f",
   "metadata": {},
   "outputs": [
    {
     "name": "stdout",
     "output_type": "stream",
     "text": [
      "t-statistic: 3.6443758781578937\n",
      "p-value: 0.005504782137504324\n"
     ]
    }
   ],
   "source": [
    "# Display the results\n",
    "print(f\"t-statistic: {abs(t_stat)}\")\n",
    "print(f\"p-value: {p_value}\")"
   ]
  },
  {
   "cell_type": "code",
   "execution_count": 9,
   "id": "c44e767d",
   "metadata": {},
   "outputs": [
    {
     "name": "stdout",
     "output_type": "stream",
     "text": [
      "Reject the null hypothesis (H0)\n"
     ]
    }
   ],
   "source": [
    "# Check for significance\n",
    "alpha = 0.05\n",
    "if p_value < alpha:\n",
    "    print(\"Reject the null hypothesis (H0)\")\n",
    "else:\n",
    "    print(\"Fail to reject the null hypothesis (H0)\")"
   ]
  },
  {
   "cell_type": "markdown",
   "id": "755051ad",
   "metadata": {},
   "source": [
    "# Paired t-test\n",
    "The sales in 6 shops before and after the more sale campaign are as shown below, can we say that the campaign is successful? Use 5% level of significance . \n",
    "\n",
    "𝑯_𝟎: 𝝁_𝟏=𝝁_𝟐\n",
    "\n",
    "𝑯_𝟏: 𝝁_𝟏>𝝁_𝟐\n",
    "\n",
    "Sales before campaign = {53,28,32,48,50,42}\n",
    "\n",
    "Sales after campaign = {58,32,30,50,56,45}"
   ]
  },
  {
   "cell_type": "code",
   "execution_count": 10,
   "id": "7d009604",
   "metadata": {},
   "outputs": [],
   "source": [
    "# Data\n",
    "sales_before = np.array([53, 28, 32, 48, 50, 42])\n",
    "sales_after = np.array([58, 32, 30, 50, 56, 45])"
   ]
  },
  {
   "cell_type": "code",
   "execution_count": 11,
   "id": "75527f94",
   "metadata": {},
   "outputs": [],
   "source": [
    "# Perform paired t-test\n",
    "t_stat, p_value = stats.ttest_rel(sales_after, sales_before,  alternative='greater')"
   ]
  },
  {
   "cell_type": "code",
   "execution_count": 12,
   "id": "c0936d6b",
   "metadata": {},
   "outputs": [
    {
     "name": "stdout",
     "output_type": "stream",
     "text": [
      "t-statistic: 2.598076211353316\n",
      "p-value: 0.02418092617729372\n"
     ]
    }
   ],
   "source": [
    "# Display the results\n",
    "print(f\"t-statistic: {t_stat}\")\n",
    "print(f\"p-value: {p_value}\")"
   ]
  },
  {
   "cell_type": "code",
   "execution_count": 13,
   "id": "8351482e",
   "metadata": {},
   "outputs": [
    {
     "name": "stdout",
     "output_type": "stream",
     "text": [
      "Reject the null hypothesis (H0)\n"
     ]
    }
   ],
   "source": [
    "# Check for significance\n",
    "alpha = 0.05\n",
    "if p_value < alpha:\n",
    "    print(\"Reject the null hypothesis (H0)\")\n",
    "else:\n",
    "    print(\"Fail to reject the null hypothesis (H0)\")"
   ]
  },
  {
   "cell_type": "code",
   "execution_count": null,
   "id": "c71e4ae9",
   "metadata": {},
   "outputs": [],
   "source": []
  },
  {
   "cell_type": "code",
   "execution_count": 14,
   "id": "f752ed25",
   "metadata": {},
   "outputs": [],
   "source": [
    "import numpy as np\n",
    "from scipy import stats"
   ]
  },
  {
   "cell_type": "code",
   "execution_count": 15,
   "id": "1c6dd761",
   "metadata": {},
   "outputs": [],
   "source": [
    "# Data\n",
    "x = np.array([168, 164, 166, 167, 168, 169, 170, 170, 171])\n",
    "mean=170"
   ]
  },
  {
   "cell_type": "code",
   "execution_count": 16,
   "id": "5786c722",
   "metadata": {},
   "outputs": [
    {
     "data": {
      "text/plain": [
       "170"
      ]
     },
     "execution_count": 16,
     "metadata": {},
     "output_type": "execute_result"
    }
   ],
   "source": [
    "mean"
   ]
  },
  {
   "cell_type": "code",
   "execution_count": 17,
   "id": "930d7f90",
   "metadata": {},
   "outputs": [],
   "source": [
    "t_test,p_value=stats.ttest_1samp(x,mean)"
   ]
  },
  {
   "cell_type": "code",
   "execution_count": 18,
   "id": "dca80d2a",
   "metadata": {},
   "outputs": [
    {
     "data": {
      "text/plain": [
       "(2.570158416462741, 0.033119402028925805)"
      ]
     },
     "execution_count": 18,
     "metadata": {},
     "output_type": "execute_result"
    }
   ],
   "source": [
    "abs(t_test),p_value"
   ]
  },
  {
   "cell_type": "code",
   "execution_count": 19,
   "id": "4c618054",
   "metadata": {},
   "outputs": [
    {
     "name": "stdout",
     "output_type": "stream",
     "text": [
      "Reject the Null hypothesis\n"
     ]
    }
   ],
   "source": [
    "alpha = 0.05\n",
    "if p_value < alpha:\n",
    "    print(\"Reject the Null hypothesis\")\n",
    "else:\n",
    "    print(\"Reject the Alternate hypothesis\")"
   ]
  },
  {
   "cell_type": "code",
   "execution_count": null,
   "id": "f644376c",
   "metadata": {},
   "outputs": [],
   "source": []
  },
  {
   "cell_type": "code",
   "execution_count": 20,
   "id": "084c2292",
   "metadata": {},
   "outputs": [],
   "source": [
    "# Data\n",
    "sample_A = np.array([24, 27, 26, 21, 25])\n",
    "sample_B = np.array([27, 30, 28, 31, 32, 36])"
   ]
  },
  {
   "cell_type": "code",
   "execution_count": 21,
   "id": "e52a372e",
   "metadata": {},
   "outputs": [],
   "source": [
    "t_test,p_vlaue=stats.ttest_ind(sample_A,sample_B ,equal_var=False)"
   ]
  },
  {
   "cell_type": "code",
   "execution_count": 22,
   "id": "c0d9f9cb",
   "metadata": {},
   "outputs": [
    {
     "data": {
      "text/plain": [
       "(3.6443758781578937, 0.033119402028925805)"
      ]
     },
     "execution_count": 22,
     "metadata": {},
     "output_type": "execute_result"
    }
   ],
   "source": [
    "abs(t_test),p_value"
   ]
  },
  {
   "cell_type": "code",
   "execution_count": 23,
   "id": "d4bf4a31",
   "metadata": {},
   "outputs": [],
   "source": [
    "alpha=0.05"
   ]
  },
  {
   "cell_type": "code",
   "execution_count": 24,
   "id": "ea51e0cf",
   "metadata": {},
   "outputs": [
    {
     "name": "stdout",
     "output_type": "stream",
     "text": [
      "Reject the null Hypothesis\n"
     ]
    }
   ],
   "source": [
    "if p_value < alpha:\n",
    "    print(\"Reject the null Hypothesis\")\n",
    "else:\n",
    "    print(\"Accept the Null Hypothesis\")\n"
   ]
  },
  {
   "cell_type": "code",
   "execution_count": null,
   "id": "64c20306",
   "metadata": {},
   "outputs": [],
   "source": []
  },
  {
   "cell_type": "code",
   "execution_count": null,
   "id": "b147ffda",
   "metadata": {},
   "outputs": [],
   "source": []
  },
  {
   "cell_type": "code",
   "execution_count": 25,
   "id": "61006674",
   "metadata": {},
   "outputs": [],
   "source": [
    "# Data\n",
    "sales_before = np.array([53, 28, 32, 48, 50, 42])\n",
    "sales_after = np.array([58, 32, 30, 50, 56, 45])"
   ]
  },
  {
   "cell_type": "code",
   "execution_count": 26,
   "id": "8a9c744f",
   "metadata": {},
   "outputs": [
    {
     "ename": "ValueError",
     "evalue": "unequal length arrays",
     "output_type": "error",
     "traceback": [
      "\u001b[1;31m---------------------------------------------------------------------------\u001b[0m",
      "\u001b[1;31mValueError\u001b[0m                                Traceback (most recent call last)",
      "\u001b[1;32m~\\AppData\\Local\\Temp\\ipykernel_7492\\2477402723.py\u001b[0m in \u001b[0;36m<module>\u001b[1;34m\u001b[0m\n\u001b[1;32m----> 1\u001b[1;33m \u001b[0mt_test\u001b[0m\u001b[1;33m,\u001b[0m\u001b[0mp_value\u001b[0m\u001b[1;33m=\u001b[0m\u001b[0mstats\u001b[0m\u001b[1;33m.\u001b[0m\u001b[0mttest_rel\u001b[0m\u001b[1;33m(\u001b[0m\u001b[0msample_A\u001b[0m\u001b[1;33m,\u001b[0m\u001b[0msample_B\u001b[0m\u001b[1;33m,\u001b[0m\u001b[0malternative\u001b[0m\u001b[1;33m=\u001b[0m\u001b[1;34m'greater'\u001b[0m\u001b[1;33m)\u001b[0m\u001b[1;33m\u001b[0m\u001b[1;33m\u001b[0m\u001b[0m\n\u001b[0m",
      "\u001b[1;32m~\\anaconda3\\lib\\site-packages\\scipy\\stats\\_stats_py.py\u001b[0m in \u001b[0;36mttest_rel\u001b[1;34m(a, b, axis, nan_policy, alternative)\u001b[0m\n\u001b[0;32m   6893\u001b[0m     \u001b[0mnb\u001b[0m \u001b[1;33m=\u001b[0m \u001b[0m_get_len\u001b[0m\u001b[1;33m(\u001b[0m\u001b[0mb\u001b[0m\u001b[1;33m,\u001b[0m \u001b[0maxis\u001b[0m\u001b[1;33m,\u001b[0m \u001b[1;34m\"second argument\"\u001b[0m\u001b[1;33m)\u001b[0m\u001b[1;33m\u001b[0m\u001b[1;33m\u001b[0m\u001b[0m\n\u001b[0;32m   6894\u001b[0m     \u001b[1;32mif\u001b[0m \u001b[0mna\u001b[0m \u001b[1;33m!=\u001b[0m \u001b[0mnb\u001b[0m\u001b[1;33m:\u001b[0m\u001b[1;33m\u001b[0m\u001b[1;33m\u001b[0m\u001b[0m\n\u001b[1;32m-> 6895\u001b[1;33m         \u001b[1;32mraise\u001b[0m \u001b[0mValueError\u001b[0m\u001b[1;33m(\u001b[0m\u001b[1;34m'unequal length arrays'\u001b[0m\u001b[1;33m)\u001b[0m\u001b[1;33m\u001b[0m\u001b[1;33m\u001b[0m\u001b[0m\n\u001b[0m\u001b[0;32m   6896\u001b[0m \u001b[1;33m\u001b[0m\u001b[0m\n\u001b[0;32m   6897\u001b[0m     \u001b[1;32mif\u001b[0m \u001b[0mna\u001b[0m \u001b[1;33m==\u001b[0m \u001b[1;36m0\u001b[0m\u001b[1;33m:\u001b[0m\u001b[1;33m\u001b[0m\u001b[1;33m\u001b[0m\u001b[0m\n",
      "\u001b[1;31mValueError\u001b[0m: unequal length arrays"
     ]
    }
   ],
   "source": [
    "t_test,p_value=stats.ttest_rel(sales_before,sales_,alternative='greater')"
   ]
  },
  {
   "cell_type": "code",
   "execution_count": null,
   "id": "a12b7de5",
   "metadata": {},
   "outputs": [],
   "source": [
    "abs(t_test),p_value"
   ]
  },
  {
   "cell_type": "code",
   "execution_count": null,
   "id": "32af0bf4",
   "metadata": {},
   "outputs": [],
   "source": [
    "alpha=0.05"
   ]
  },
  {
   "cell_type": "code",
   "execution_count": null,
   "id": "47e5727b",
   "metadata": {},
   "outputs": [],
   "source": [
    "if p_value < alpha:\n",
    "    print(\"Reject the Null Hypothesis\")\n",
    "else:    \n",
    "    print(\"Accept the NUll Hypothesis\")"
   ]
  },
  {
   "cell_type": "code",
   "execution_count": null,
   "id": "eca6d595",
   "metadata": {},
   "outputs": [],
   "source": []
  }
 ],
 "metadata": {
  "kernelspec": {
   "display_name": "Python 3 (ipykernel)",
   "language": "python",
   "name": "python3"
  },
  "language_info": {
   "codemirror_mode": {
    "name": "ipython",
    "version": 3
   },
   "file_extension": ".py",
   "mimetype": "text/x-python",
   "name": "python",
   "nbconvert_exporter": "python",
   "pygments_lexer": "ipython3",
   "version": "3.9.13"
  }
 },
 "nbformat": 4,
 "nbformat_minor": 5
}
